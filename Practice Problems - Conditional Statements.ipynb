{
 "cells": [
  {
   "cell_type": "markdown",
   "metadata": {},
   "source": [
    "1. Given two numbers, print their sum. However, if the two numbers are the same, return double their sum.\n",
    "\n",
    "2. Given 2 numbers, a for the purchase amount in rupees, and b for the quality of service(1-5) received,calculate the tip in rupees? Calculate the tip according to the following table\n",
    "\n",
    "Quality\tTip Percent\t\n",
    "1\t5%\t\n",
    "2\t10%\t\n",
    "3\t15%\t\n",
    "4\t20%\t\n",
    "5\t25%\n",
    "\n",
    "3.Given a number a,program to check whether a number is positive, negative or zero\n",
    "\n",
    "4.Given a Cost price and Selling price of a product,write program to calculate profit or loss\t\n",
    "\n",
    "5.Write a program to input electricity unit charge and calculate the total electricity bill according to the given condition:\n",
    "For first 50 units Rs. 0.50/unit\n",
    "For next 100 units Rs. 0.75/unit\n",
    "For next 100 units Rs. 1.20/unit\n",
    "For unit above 250 Rs. 1.50/unit\n",
    "\n",
    "Also,an additional surcharge of 20% is added to the bill. \n",
    "\n",
    "6.Write a program to input basic salary of an employee and calculate gross salary according to given conditions.\n",
    "Basic Salary <= 10000 : HRA = 20%, DA = 80%\n",
    "Basic Salary is between 10001 to 20000 : HRA = 25%, DA = 90%\n",
    "Basic Salary >= 20001 : HRA = 30%, DA = 95% \n",
    "\n",
    "7. Write a program to count total number of notes in given amount\n",
    "\n",
    "Valid notes :\n",
    "10,20,50,100,500,2000\n",
    "\n",
    "For eg : ammount 2510, expected output is 2000=1,500=1,10=1\n",
    "\n",
    "8. Write a program to check whether triangle is valid or not if angles are given. \n",
    "\tValid Triangle : Sum of all the angles should be 180\n",
    "\t\t\t All the angles should be greater than zero\n",
    "\n",
    "9. Write a program to check if given year is leap year or not.\n",
    "\n",
    "10. Write a program to check whether triangle is equilateral, scalene or isosceles\n",
    "\tA triangle is said Equilateral Triangle, if all its sides are equal. If a, b, c are three sides of triangle. Then, \tthe triangle is equilateral only if a == b == c.\n",
    "\n",
    "\tA triangle is said Isosceles Triangle, if its two sides are equal. If a, b, c are three sides of triangle. Then, the \ttriangle is isosceles if either a == b or a == c or b == c.\n",
    "\n",
    "\tA triangle is said Scalene Triangle, if none of its sides are equal. \n",
    "\n",
    "\n"
   ]
  },
  {
   "cell_type": "markdown",
   "metadata": {},
   "source": [
    " 1.Given two numbers, print their sum. However, if the two numbers are the same, return double their sum."
   ]
  },
  {
   "cell_type": "code",
   "execution_count": 1,
   "metadata": {
    "scrolled": true
   },
   "outputs": [
    {
     "name": "stdout",
     "output_type": "stream",
     "text": [
      "enter first number:90\n",
      "enter second number:60\n",
      "150\n"
     ]
    }
   ],
   "source": [
    "num1 = int(input('enter first number:'))\n",
    "num2 = int(input('enter second number:'))\n",
    "if num1 != num2 :\n",
    "    print(num1 + num2)\n",
    "else:\n",
    "    print(2*(num1+num2))"
   ]
  },
  {
   "cell_type": "markdown",
   "metadata": {},
   "source": [
    "2.Given 2 numbers, a for the purchase amount in rupees, and b for the quality of service(1-5) received,calculate the tip in\n",
    "rupees?\n",
    "Calculate the tip according to the following table\n",
    "\n",
    "Quality Tip Percent\n",
    "1 5%\n",
    "2 10%\n",
    "3 15%\n",
    "4 20%\n",
    "5 25%\n"
   ]
  },
  {
   "cell_type": "code",
   "execution_count": 2,
   "metadata": {},
   "outputs": [
    {
     "name": "stdout",
     "output_type": "stream",
     "text": [
      "enter amount:1200\n",
      "Enter Quality of service:3\n",
      "tip = 180.0\n"
     ]
    }
   ],
   "source": [
    "amount = int(input('enter amount:'))\n",
    "Quality = int(input('Enter Quality of service:'))\n",
    "if Quality == 1:\n",
    "    tip = 5\n",
    "elif Quality == 2:\n",
    "    tip = 10\n",
    "elif Quality == 3:\n",
    "    tip = 15\n",
    "elif Quality == 4:\n",
    "    tip = 20\n",
    "elif Quality == 5:\n",
    "    tip = 25\n",
    "    \n",
    "tip_amount = amount * tip/100\n",
    "print('tip =',tip_amount)"
   ]
  },
  {
   "cell_type": "markdown",
   "metadata": {},
   "source": [
    "3.Given a number a,program to check whether a number is positive, negative or zero"
   ]
  },
  {
   "cell_type": "code",
   "execution_count": 3,
   "metadata": {},
   "outputs": [
    {
     "name": "stdout",
     "output_type": "stream",
     "text": [
      "enter a number:321\n",
      "321 is positive\n"
     ]
    }
   ],
   "source": [
    "num = int(input('enter a number:'))\n",
    "if num < 0:\n",
    "    print(num,'is negative')\n",
    "elif num>0 :\n",
    "    print(num,'is positive')\n",
    "else:\n",
    "    print(num,'is zero')"
   ]
  },
  {
   "cell_type": "markdown",
   "metadata": {},
   "source": [
    "4.Given a Cost price and Selling price of a product,write program to calculate profit or loss"
   ]
  },
  {
   "cell_type": "code",
   "execution_count": null,
   "metadata": {},
   "outputs": [],
   "source": [
    "cost_price = 100\n",
    "selling_price = 120\n",
    "    \n",
    "    \n",
    "if cost_price < selling_price:\n",
    "    x = selling_price - cost_price\n",
    "    \n",
    "if cost_price > selling_price:\n",
    "    x = selling_price - cost_price\n",
    "    \n",
    "else:\n",
    "    x = 0\n",
    "    \n",
    "print('profit is:',x)\n",
    "    "
   ]
  },
  {
   "cell_type": "markdown",
   "metadata": {},
   "source": [
    "5.Write a program to input electricity unit charge and calculate the total electricity bill according to the given condition: \n",
    "For first 50 units Rs. 0.50/unit \n",
    "For next 100 units Rs. 0.75/unit \n",
    "For next 100 units Rs. 1.20/unit \n",
    "For unit above 250 Rs. 1.50/unit\n",
    "\n",
    "Also,an additional surcharge of 20% is added to the bill."
   ]
  },
  {
   "cell_type": "code",
   "execution_count": 5,
   "metadata": {},
   "outputs": [
    {
     "name": "stdout",
     "output_type": "stream",
     "text": [
      "input electricity units:100\n",
      "total electricity bill: 75.0\n"
     ]
    }
   ],
   "source": [
    "eletricity_unit_charge = int(input('input electricity units:'))\n",
    "if eletricity_unit_charge <= 50:\n",
    "    total_electricity_bill = eletricity_unit_charge * .50\n",
    "elif eletricity_unit_charge <= 150:\n",
    "    total_electricity_bill = (eletricity_unit_charge - 50) * .75 + 50 * .50\n",
    "elif eletricity_unit_charge <= 250:\n",
    "    total_electricity_bill = (eletricity_unit_charge - 150) * 1.20 + 50 * .75 + 50 * .50\n",
    "else:\n",
    "    total_electricity_bill = (eletricity_unit_charge - 250) * 1.50 + 100 * 1.20 + 100 * .75 + 50 *.50\n",
    "\n",
    "total_bill = total_electricity_bill + (total_electricity_bill * 20/100)\n",
    "\n",
    "print('total electricity bill:',total_bill)"
   ]
  },
  {
   "cell_type": "markdown",
   "metadata": {},
   "source": [
    "6.Write a program to input basic salary of an employee and calculate gross salary according to given conditions. Basic Salary <= 10000 : HRA = 20%, DA = 80% Basic Salary is between 10001 to 20000 : HRA = 25%, DA = 90% Basic Salary >= 20001 : HRA = 30%, DA = 95%"
   ]
  },
  {
   "cell_type": "code",
   "execution_count": 7,
   "metadata": {},
   "outputs": [
    {
     "name": "stdout",
     "output_type": "stream",
     "text": [
      "Enter Basic Salary:15000\n",
      "Gross Salary is: 32250.0\n"
     ]
    }
   ],
   "source": [
    "basic_salary = int(input('Enter Basic Salary:'))\n",
    "if basic_salary <= 10000:\n",
    "    HRA = 20\n",
    "    DA = 80\n",
    "elif basic_salary <=20000:\n",
    "    HRA = 25\n",
    "    DA = 90\n",
    "else:\n",
    "    HRA = 30\n",
    "    DA = 95\n",
    "    \n",
    "gross_salary = (basic_salary + (basic_salary * HRA/100) + (basic_salary * DA/100))\n",
    "print('Gross Salary is:',gross_salary)"
   ]
  },
  {
   "cell_type": "markdown",
   "metadata": {},
   "source": [
    "7.Write a program to count total number of notes in given amount\n",
    "Valid notes : 10,20,50,100,500,2000\n",
    "\n",
    "For eg : ammount 2510, expected output is 2000=1,500=1,10=1"
   ]
  },
  {
   "cell_type": "code",
   "execution_count": null,
   "metadata": {},
   "outputs": [],
   "source": [
    "amount = int(input(\"Enter Amount:\"))\n",
    "num_2000 = amount//2000\n",
    "num_500 = (amount-(2000*num_2000))//500\n",
    "num_100 = (amount-(2000*num_2000)-(500*num_500))//100\n",
    "num_50 = (amount-(2000*num_2000)-(500*num_500)-(100*num_100))//50\n",
    "num_20 = (amount-(2000*num_2000)-(500*num_500)-(100*num_100)-(50*num_50))//20\n",
    "num_10 = (amount-(2000*num_2000)-(500*num_500)-(100*num_100)-(50*num_50)-(20*num_20))//10\n",
    "print('num_2000 = ',num_2000,'num_500 = ',num_500,'num_100 = ',num_100,'num_50 =',num_50,'num_20 = ',num_20,'num_10 = ',num_10)"
   ]
  },
  {
   "cell_type": "markdown",
   "metadata": {},
   "source": [
    "8.Write a program to check whether triangle is valid or not if angles are given.\n",
    "Valid Triangle : Sum of all the angles should be 180\n",
    "\n",
    "      All the angles should be greater than zero"
   ]
  },
  {
   "cell_type": "code",
   "execution_count": 10,
   "metadata": {},
   "outputs": [
    {
     "name": "stdout",
     "output_type": "stream",
     "text": [
      "Enter angles1:100\n",
      "Enter angles2:40\n",
      "Enter angles3:40\n",
      "Valid triangle\n"
     ]
    }
   ],
   "source": [
    "angle1= int(input('Enter angles1:'))\n",
    "angle2= int(input('Enter angles2:'))\n",
    "angle3= int(input('Enter angles3:'))\n",
    "if angle1 + angle2 + angle3 == 180:\n",
    "    print('Valid triangle')\n",
    "else:\n",
    "    print('Invald triangle')"
   ]
  },
  {
   "cell_type": "markdown",
   "metadata": {},
   "source": [
    "9.Write a program to check if given year is leap year or not."
   ]
  },
  {
   "cell_type": "code",
   "execution_count": 12,
   "metadata": {},
   "outputs": [
    {
     "name": "stdout",
     "output_type": "stream",
     "text": [
      "Enter year:2020\n",
      "2020 is a leap year\n"
     ]
    }
   ],
   "source": [
    "year = int(input('Enter year:'))\n",
    "if year % 4 == 0 :\n",
    "    print(year, 'is a leap year')\n",
    "else:\n",
    "    print(year, 'is not a leap year')"
   ]
  },
  {
   "cell_type": "markdown",
   "metadata": {},
   "source": [
    "10.Write a program to check whether triangle is equilateral, scalene or isosceles A triangle is said Equilateral Triangle, if all its sides are equal. If a, b, c are three sides of triangle. Then, the triangle is equilateral only if a == b == c.\n",
    "\n",
    "A triangle is said Isosceles Triangle, if its two sides are equal. If a, b, c are three sides of triangle. Then, the triangle is isosceles if either a == b or a == c or b == c.\n",
    "\n",
    "A triangle is said Scalene Triangle, if none of its sides are equal."
   ]
  },
  {
   "cell_type": "code",
   "execution_count": 13,
   "metadata": {},
   "outputs": [
    {
     "name": "stdout",
     "output_type": "stream",
     "text": [
      "Enter side1:20\n",
      "Enter side2:49\n",
      "Enter side3:20\n",
      "Isosceles Triangle\n"
     ]
    }
   ],
   "source": [
    "a= int(input('Enter side1:'))\n",
    "b= int(input('Enter side2:'))\n",
    "c= int(input('Enter side3:'))\n",
    "if a == b == c:\n",
    "    print('Equilateral Triangle')\n",
    "elif a==b or b==c or a==c:\n",
    "    print('Isosceles Triangle')\n",
    "else:\n",
    "    print('Scalene Triangle')"
   ]
  }
 ],
 "metadata": {
  "kernelspec": {
   "display_name": "Python 3",
   "language": "python",
   "name": "python3"
  },
  "language_info": {
   "codemirror_mode": {
    "name": "ipython",
    "version": 3
   },
   "file_extension": ".py",
   "mimetype": "text/x-python",
   "name": "python",
   "nbconvert_exporter": "python",
   "pygments_lexer": "ipython3",
   "version": "3.6.7"
  }
 },
 "nbformat": 4,
 "nbformat_minor": 2
}
