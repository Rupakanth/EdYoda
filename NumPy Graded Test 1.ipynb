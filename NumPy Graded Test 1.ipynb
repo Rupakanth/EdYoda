{
 "cells": [
  {
   "cell_type": "markdown",
   "metadata": {},
   "source": [
    "# NumPy Graded Test 1\n",
    "<hr>\n"
   ]
  },
  {
   "cell_type": "code",
   "execution_count": 1,
   "metadata": {},
   "outputs": [],
   "source": [
    "import numpy as np"
   ]
  },
  {
   "cell_type": "markdown",
   "metadata": {},
   "source": [
    "### 1. Count The Number Of Times Each Value Appears In An Array Of Integers"
   ]
  },
  {
   "cell_type": "code",
   "execution_count": 12,
   "metadata": {},
   "outputs": [
    {
     "name": "stdout",
     "output_type": "stream",
     "text": [
      "[9 7 2 9 4 8 3 6 5 6 1 3 3 1 7 1 8 3 9 8]\n"
     ]
    },
    {
     "data": {
      "text/plain": [
       "1"
      ]
     },
     "execution_count": 12,
     "metadata": {},
     "output_type": "execute_result"
    }
   ],
   "source": [
    "a = np.random.randint(1,10,20)\n",
    "print(a)\n",
    "np. count_nonzero(a==2)"
   ]
  },
  {
   "cell_type": "markdown",
   "metadata": {},
   "source": [
    "### 2. Given 9 Integers. You have to convert them into 3*3 Numpy array using Reshape function."
   ]
  },
  {
   "cell_type": "code",
   "execution_count": 13,
   "metadata": {},
   "outputs": [
    {
     "data": {
      "text/plain": [
       "array([[0, 1, 2],\n",
       "       [3, 4, 5],\n",
       "       [6, 7, 8]])"
      ]
     },
     "execution_count": 13,
     "metadata": {},
     "output_type": "execute_result"
    }
   ],
   "source": [
    "np.arange(9).reshape(3,3)"
   ]
  },
  {
   "cell_type": "markdown",
   "metadata": {},
   "source": [
    "### 3. How to find the memory size of any array "
   ]
  },
  {
   "cell_type": "code",
   "execution_count": 14,
   "metadata": {},
   "outputs": [
    {
     "name": "stdout",
     "output_type": "stream",
     "text": [
      "36 bytes\n"
     ]
    }
   ],
   "source": [
    "a = np.arange(9).reshape(3,3)\n",
    "print(\"%d bytes\" % (a.size * a.itemsize))"
   ]
  },
  {
   "cell_type": "markdown",
   "metadata": {},
   "source": [
    "### 4. Create a 2d array of size 10 by 10 with 1 on the border and 0 inside."
   ]
  },
  {
   "cell_type": "code",
   "execution_count": 20,
   "metadata": {},
   "outputs": [
    {
     "name": "stdout",
     "output_type": "stream",
     "text": [
      "[[1. 1. 1. 1. 1. 1. 1. 1. 1. 1.]\n",
      " [1. 0. 0. 0. 0. 0. 0. 0. 0. 1.]\n",
      " [1. 0. 0. 0. 0. 0. 0. 0. 0. 1.]\n",
      " [1. 0. 0. 0. 0. 0. 0. 0. 0. 1.]\n",
      " [1. 0. 0. 0. 0. 0. 0. 0. 0. 1.]\n",
      " [1. 0. 0. 0. 0. 0. 0. 0. 0. 1.]\n",
      " [1. 0. 0. 0. 0. 0. 0. 0. 0. 1.]\n",
      " [1. 0. 0. 0. 0. 0. 0. 0. 0. 1.]\n",
      " [1. 0. 0. 0. 0. 0. 0. 0. 0. 1.]\n",
      " [1. 1. 1. 1. 1. 1. 1. 1. 1. 1.]]\n"
     ]
    }
   ],
   "source": [
    "a = np.ones((10,10))\n",
    "a[1:-1, 1:-1] = 0\n",
    "print(a)"
   ]
  },
  {
   "cell_type": "markdown",
   "metadata": {},
   "source": [
    "### 5.Create a 8x8 matrix and fill it with a checkerboard pattern."
   ]
  },
  {
   "cell_type": "code",
   "execution_count": 23,
   "metadata": {},
   "outputs": [
    {
     "name": "stdout",
     "output_type": "stream",
     "text": [
      "Checkerboard pattern:\n",
      "[[0 1 0 1 0 1 0 1]\n",
      " [1 0 1 0 1 0 1 0]\n",
      " [0 1 0 1 0 1 0 1]\n",
      " [1 0 1 0 1 0 1 0]\n",
      " [0 1 0 1 0 1 0 1]\n",
      " [1 0 1 0 1 0 1 0]\n",
      " [0 1 0 1 0 1 0 1]\n",
      " [1 0 1 0 1 0 1 0]]\n"
     ]
    }
   ],
   "source": [
    "x = np.zeros((n, n), dtype = int) \n",
    "x[1::2, ::2] = 1\n",
    "x[::2, 1::2] = 1\n",
    "print(\"Checkerboard pattern:\") \n",
    "print(x)\n"
   ]
  },
  {
   "cell_type": "markdown",
   "metadata": {},
   "source": [
    "### 6. Normalize a 5x5 random matrix.\n",
    "\n",
    "normalization formula : ((a-mean(a))/std(a))"
   ]
  },
  {
   "cell_type": "code",
   "execution_count": 26,
   "metadata": {},
   "outputs": [
    {
     "name": "stdout",
     "output_type": "stream",
     "text": [
      "[[-0.37516348  0.03262291  0.6443025  -1.39462947  0.7122669 ]\n",
      " [-0.78294988 -0.23923468  1.52783969  1.73173289  1.66376849]\n",
      " [ 0.03262291 -1.25870067  1.66376849 -0.85091428 -0.91887867]\n",
      " [-0.98684307 -1.46259387  0.5083737   0.5083737  -0.51109228]\n",
      " [-0.10330589  1.45987529 -0.23923468 -0.30719908 -1.05480747]]\n"
     ]
    }
   ],
   "source": [
    "a = np.random.randint(1,50,(5,5))\n",
    "print((a-np.mean(a))/np.std(a))"
   ]
  },
  {
   "cell_type": "markdown",
   "metadata": {},
   "source": [
    "### 7. Given a 1D array in range(0,11), negate all elements which are between 3 and 8, in place."
   ]
  },
  {
   "cell_type": "code",
   "execution_count": 56,
   "metadata": {},
   "outputs": [
    {
     "name": "stdout",
     "output_type": "stream",
     "text": [
      "[-3 -4 -5 -6 -7 -8]\n",
      "[ 0  1  2  3  4  5  6  7  8  9 10]\n"
     ]
    }
   ],
   "source": [
    "a = np.arange(11)\n",
    "print(np.negative(a[3:9]))\n",
    "print(a)"
   ]
  },
  {
   "cell_type": "code",
   "execution_count": 59,
   "metadata": {},
   "outputs": [
    {
     "name": "stdout",
     "output_type": "stream",
     "text": [
      "[ 0  1  2  3 -4 -5 -6 -7  8  9 10]\n"
     ]
    }
   ],
   "source": [
    "a=np.arange(11)\n",
    "a\n",
    "m = (a > 3) & (a < 8)\n",
    "a[m] *= -1\n",
    "print(a)"
   ]
  },
  {
   "cell_type": "markdown",
   "metadata": {},
   "source": [
    "### 8. How to get the dates of yesterday, today and tomorrow? "
   ]
  },
  {
   "cell_type": "code",
   "execution_count": 35,
   "metadata": {},
   "outputs": [
    {
     "name": "stdout",
     "output_type": "stream",
     "text": [
      "2020-02-13\n",
      "2020-02-14\n",
      "2020-02-15\n"
     ]
    }
   ],
   "source": [
    "print(np.datetime64('today', 'D') - np.timedelta64(1, 'D') )\n",
    "print(np.datetime64('today', 'D'))\n",
    "print(np.datetime64('today', 'D') + np.timedelta64(1, 'D') )"
   ]
  },
  {
   "cell_type": "markdown",
   "metadata": {},
   "source": [
    "### 9. Generate two arrays of size 2X4 & 3X3, find difference between them. "
   ]
  },
  {
   "cell_type": "code",
   "execution_count": 39,
   "metadata": {},
   "outputs": [
    {
     "data": {
      "text/plain": [
       "array([[[[ 39,  26,  28,  46],\n",
       "         [ 23,  10,  12,  30],\n",
       "         [ 14,   1,   3,  21]],\n",
       "\n",
       "        [[  9,  30,  -9,   5],\n",
       "         [ -7,  14, -25, -11],\n",
       "         [-16,   5, -34, -20]]],\n",
       "\n",
       "\n",
       "       [[[-13, -26, -24,  -6],\n",
       "         [ 49,  36,  38,  56],\n",
       "         [-17, -30, -28, -10]],\n",
       "\n",
       "        [[-43, -22, -61, -47],\n",
       "         [ 19,  40,   1,  15],\n",
       "         [-47, -26, -65, -51]]],\n",
       "\n",
       "\n",
       "       [[[-21, -34, -32, -14],\n",
       "         [ 68,  55,  57,  75],\n",
       "         [ 19,   6,   8,  26]],\n",
       "\n",
       "        [[-51, -30, -69, -55],\n",
       "         [ 38,  59,  20,  34],\n",
       "         [-11,  10, -29, -15]]]])"
      ]
     },
     "execution_count": 39,
     "metadata": {},
     "output_type": "execute_result"
    }
   ],
   "source": [
    "a = np.random.randint(1,100,(2,4))\n",
    "b = np.random.randint(1,100,(3,3))\n",
    "\n",
    "a.reshape(1,2,1,4)-b.reshape(3,1,3,1)"
   ]
  },
  {
   "cell_type": "markdown",
   "metadata": {},
   "source": [
    "### 10. Given 1d array of ['cat','dog','rat'], genrate 100 elements of 1d array consisting of the above 3 value ?\n",
    "['cat','cat',...,'rat','dog','dog','cat'...]"
   ]
  },
  {
   "cell_type": "code",
   "execution_count": 42,
   "metadata": {},
   "outputs": [
    {
     "data": {
      "text/plain": [
       "array(['rat', 'dog', 'dog', 'rat', 'rat', 'cat', 'dog', 'dog', 'rat',\n",
       "       'dog', 'cat', 'rat', 'dog', 'cat', 'cat', 'rat', 'dog', 'cat',\n",
       "       'cat', 'rat', 'rat', 'cat', 'dog', 'cat', 'cat', 'dog', 'rat',\n",
       "       'dog', 'rat', 'cat', 'rat', 'rat', 'cat', 'dog', 'dog', 'cat',\n",
       "       'cat', 'rat', 'rat', 'dog', 'dog', 'dog', 'cat', 'cat', 'rat',\n",
       "       'rat', 'cat', 'cat', 'cat', 'cat', 'cat', 'cat', 'cat', 'dog',\n",
       "       'rat', 'cat', 'rat', 'dog', 'dog', 'rat', 'cat', 'rat', 'rat',\n",
       "       'cat', 'rat', 'rat', 'rat', 'rat', 'cat', 'cat', 'dog', 'dog',\n",
       "       'rat', 'cat', 'rat', 'dog', 'cat', 'rat', 'rat', 'dog', 'rat',\n",
       "       'dog', 'dog', 'dog', 'cat', 'rat', 'cat', 'rat', 'cat', 'dog',\n",
       "       'cat', 'dog', 'dog', 'cat', 'cat', 'rat', 'rat', 'dog', 'dog',\n",
       "       'cat'], dtype='<U3')"
      ]
     },
     "execution_count": 42,
     "metadata": {},
     "output_type": "execute_result"
    }
   ],
   "source": [
    "\n",
    "np.choose(np.random.randint(0,3,100),choices = [\"cat\",\"dog\",\"rat\"])\n"
   ]
  },
  {
   "cell_type": "markdown",
   "metadata": {},
   "source": [
    "### 11. Create a vector of size 10 with values ranging from 0 to 1, both excluded without manually deducing the values"
   ]
  },
  {
   "cell_type": "code",
   "execution_count": 44,
   "metadata": {},
   "outputs": [
    {
     "data": {
      "text/plain": [
       "array([0.        , 0.11111111, 0.22222222, 0.33333333, 0.44444444,\n",
       "       0.55555556, 0.66666667, 0.77777778, 0.88888889, 1.        ])"
      ]
     },
     "execution_count": 44,
     "metadata": {},
     "output_type": "execute_result"
    }
   ],
   "source": [
    "v = np.linspace(0,1,10)\n",
    "v"
   ]
  },
  {
   "cell_type": "markdown",
   "metadata": {},
   "source": [
    "### 12. Given a two dimensional array, how to extract unique rows?"
   ]
  },
  {
   "cell_type": "code",
   "execution_count": 49,
   "metadata": {},
   "outputs": [
    {
     "name": "stdout",
     "output_type": "stream",
     "text": [
      "[[1 6 2 7]\n",
      " [8 9 4 8]\n",
      " [2 4 6 6]\n",
      " [8 3 9 7]\n",
      " [3 4 2 3]\n",
      " [9 6 6 1]]\n"
     ]
    },
    {
     "data": {
      "text/plain": [
       "array([[1, 6, 2, 7],\n",
       "       [2, 4, 6, 6],\n",
       "       [3, 4, 2, 3],\n",
       "       [8, 3, 9, 7],\n",
       "       [8, 9, 4, 8],\n",
       "       [9, 6, 6, 1]])"
      ]
     },
     "execution_count": 49,
     "metadata": {},
     "output_type": "execute_result"
    }
   ],
   "source": [
    "a = np.random.randint(1,10,(6,4))\n",
    "print(a)\n",
    "np.unique(a,axis =0)"
   ]
  },
  {
   "cell_type": "markdown",
   "metadata": {},
   "source": [
    "### 13. Create a structured array with x and y coordinates covering the [0,1]x[0,1] area."
   ]
  },
  {
   "cell_type": "code",
   "execution_count": null,
   "metadata": {},
   "outputs": [],
   "source": [
    "a = np.random.randint(0,1)"
   ]
  },
  {
   "cell_type": "markdown",
   "metadata": {},
   "source": [
    "### 14. How to find the closest value (to a given scalar) in a vector? "
   ]
  },
  {
   "cell_type": "code",
   "execution_count": 67,
   "metadata": {},
   "outputs": [
    {
     "name": "stdout",
     "output_type": "stream",
     "text": [
      "[[6 9 2 5]\n",
      " [8 5 1 4]\n",
      " [8 9 8 9]\n",
      " [3 7 6 4]\n",
      " [9 3 7 2]\n",
      " [1 1 3 2]]\n",
      "[0.08564058 0.27318328 0.13836173 0.56686822 0.968528   0.17682231\n",
      " 0.37369132 0.20762493 0.75957167 0.64889103]\n",
      "nearestvalue : 0.5668682221588286\n"
     ]
    }
   ],
   "source": [
    "array = np.random.randint(1,10,(6,4))\n",
    "print(array)\n",
    "def find_nearest(array, value):\n",
    "    array = np.asarray(array)\n",
    "    idx = (np.abs(array - value)).argmin()\n",
    "    return array[idx]\n",
    "\n",
    "array = np.random.random(10)\n",
    "print(array)\n",
    "\n",
    "value = 0.5\n",
    "\n",
    "print(\"nearestvalue :\",find_nearest(array, value))"
   ]
  },
  {
   "cell_type": "markdown",
   "metadata": {},
   "source": [
    "### 15. Consider a random vector with shape (10,2) representing coordinates, find point by point distances. Use euclidian distance."
   ]
  },
  {
   "cell_type": "code",
   "execution_count": 199,
   "metadata": {},
   "outputs": [
    {
     "name": "stdout",
     "output_type": "stream",
     "text": [
      "[[35 16]\n",
      " [20 13]\n",
      " [40 14]\n",
      " [90 26]\n",
      " [43 45]\n",
      " [27 47]\n",
      " [95 72]\n",
      " [12  8]\n",
      " [39 18]\n",
      " [63  5]]\n",
      "distance between [35 16] and [20 13] is 15.3\n",
      "distance between [20 13] and [40 14] is 20.02\n",
      "distance between [40 14] and [90 26] is 51.42\n",
      "distance between [90 26] and [43 45] is 50.7\n",
      "distance between [43 45] and [27 47] is 16.12\n",
      "distance between [27 47] and [95 72] is 72.45\n",
      "distance between [95 72] and [12  8] is 104.81\n",
      "distance between [12  8] and [39 18] is 28.79\n",
      "distance between [39 18] and [63  5] is 27.29\n"
     ]
    }
   ],
   "source": [
    "array = np.random.randint(1,100,(10,2))\n",
    "print(array)\n",
    "\n",
    "for value in range(len(array)-1):\n",
    "    dist = np.linalg.norm(array[value] - array[value+1])\n",
    "    print(\"distance between {} and {} is\".format(array[value],array[value+1]),np.round(dist,2))\n",
    "    "
   ]
  },
  {
   "cell_type": "markdown",
   "metadata": {},
   "source": [
    "### 16. How to sort an array by the nth column? "
   ]
  },
  {
   "cell_type": "code",
   "execution_count": 198,
   "metadata": {},
   "outputs": [
    {
     "name": "stdout",
     "output_type": "stream",
     "text": [
      "[[14 46 69 35 83 20]\n",
      " [72 49 20 57 93 45]\n",
      " [63 45 95 49 38 34]\n",
      " [58 43 94 90 28 34]]\n",
      "---------------------------------------------\n",
      "[[14 46 69 35 83 20]\n",
      " [63 45 95 49 38 34]\n",
      " [58 43 94 90 28 34]\n",
      " [72 49 20 57 93 45]]\n"
     ]
    }
   ],
   "source": [
    "array = np.random.randint(1,100,(4,6))\n",
    "print(array)\n",
    "n = 5\n",
    "sorted_array = array[np.argsort(array[:, n])]\n",
    "print(\"---------------------------------------------\")\n",
    "print(sorted_array)\n"
   ]
  },
  {
   "cell_type": "markdown",
   "metadata": {},
   "source": [
    "### 17.How to tell if a given 2D array has null columns? "
   ]
  },
  {
   "cell_type": "code",
   "execution_count": 169,
   "metadata": {},
   "outputs": [
    {
     "name": "stdout",
     "output_type": "stream",
     "text": [
      "[[  2  22   0]\n",
      " [-11  33   0]\n",
      " [ 13 872   0]]\n"
     ]
    },
    {
     "data": {
      "text/plain": [
       "array([ True,  True, False])"
      ]
     },
     "execution_count": 169,
     "metadata": {},
     "output_type": "execute_result"
    }
   ],
   "source": [
    "array = np.array([[2,22,0],[-11,33,0],[13,872,0]])\n",
    "print(array)\n",
    "np.any(array,axis =0)"
   ]
  },
  {
   "cell_type": "markdown",
   "metadata": {},
   "source": [
    "### 18. Considering a two dimensions array, how to get sum over the last two columns at once?"
   ]
  },
  {
   "cell_type": "code",
   "execution_count": 153,
   "metadata": {},
   "outputs": [
    {
     "name": "stdout",
     "output_type": "stream",
     "text": [
      "[[22 38 13  9 71 98]\n",
      " [19 59 60 71 30  2]\n",
      " [72 83 47 64 69 34]\n",
      " [87 55 57 38 84 72]]\n",
      "sum of last two columns: 460\n"
     ]
    }
   ],
   "source": [
    "array = np.random.randint(1,100,(4,6))\n",
    "print(array)\n",
    "sum_array= np.sum(array,axis=0)\n",
    "print(\"sum of last two columns:\",sum_array[-1] + sum_array[-2])"
   ]
  },
  {
   "cell_type": "markdown",
   "metadata": {},
   "source": [
    "### 19. Given a 2d array of 5X5, increment 1st column by 1, second column by 2, 3rd column by 3 & so on till the last column"
   ]
  },
  {
   "cell_type": "code",
   "execution_count": 196,
   "metadata": {},
   "outputs": [
    {
     "name": "stdout",
     "output_type": "stream",
     "text": [
      "[[84 73 65 37 25]\n",
      " [34 23 44 58 42]\n",
      " [47 28 63 54 46]\n",
      " [74 70 68 28 16]\n",
      " [62 88 45 10  8]]\n",
      "-----------------------\n",
      "-----------------------\n",
      "[[85 75 68 41 30]\n",
      " [35 25 47 62 47]\n",
      " [48 30 66 58 51]\n",
      " [75 72 71 32 21]\n",
      " [63 90 48 14 13]]\n"
     ]
    }
   ],
   "source": [
    "array = np.random.randint(1,100,(5,5))\n",
    "print(array)\n",
    "print(\"-----------------------\")\n",
    "array[:,0] = array[:,0] +1\n",
    "array[:,1] = array[:,1] +2\n",
    "array[:,2] = array[:,2] +3\n",
    "array[:,3] = array[:,3] +4\n",
    "array[:,4] = array[:,4] +5\n",
    "print(\"-----------------------\")\n",
    "print(array)"
   ]
  },
  {
   "cell_type": "markdown",
   "metadata": {},
   "source": [
    "### 20. Given a 1d array(size 100) of boolean values, identify total number of True in it. "
   ]
  },
  {
   "cell_type": "code",
   "execution_count": 118,
   "metadata": {},
   "outputs": [
    {
     "name": "stdout",
     "output_type": "stream",
     "text": [
      "[0 0 1 1 1 1 1 0 0 1 1 0 1 1 1 0 0 0 0 0 0 0 1 1 1 1 0 0 1 0 0 0 1 0 1 1 1\n",
      " 0 1 0 0 0 1 0 0 1 0 0 1 0 1 0 0 1 0 0 0 0 1 1 0 1 1 1 0 0 0 1 1 0 0 0 1 0\n",
      " 0 1 0 1 1 0 1 1 1 1 1 0 1 1 1 1 0 0 1 0 1 0 1 0 1 0]\n"
     ]
    },
    {
     "data": {
      "text/plain": [
       "49"
      ]
     },
     "execution_count": 118,
     "metadata": {},
     "output_type": "execute_result"
    }
   ],
   "source": [
    "array = np.random.randint(0,2,100)\n",
    "print(array)\n",
    "np.count_nonzero(array)"
   ]
  },
  {
   "cell_type": "markdown",
   "metadata": {},
   "source": [
    "### 21. Consider the vector [1, 2, 3, 4, 5], how to build a new vector with 3 consecutive zeros interleaved between each value? "
   ]
  },
  {
   "cell_type": "code",
   "execution_count": null,
   "metadata": {},
   "outputs": [],
   "source": []
  },
  {
   "cell_type": "markdown",
   "metadata": {},
   "source": [
    "### 22. How to swap two rows of an array?"
   ]
  },
  {
   "cell_type": "code",
   "execution_count": 112,
   "metadata": {},
   "outputs": [
    {
     "name": "stdout",
     "output_type": "stream",
     "text": [
      "[[4 3 1]\n",
      " [5 7 0]\n",
      " [9 9 3]\n",
      " [8 2 4]]\n",
      "-----------------------------------\n",
      "[[9 9 3]\n",
      " [5 7 0]\n",
      " [4 3 1]\n",
      " [8 2 4]]\n"
     ]
    }
   ],
   "source": [
    "a = np.array([[4,3,1], [5,7,0], [9,9,3], [8,2,4]])\n",
    "print(a) \n",
    "print(\"-----------------------------------\")\n",
    "# swapping 1st and 3rd rows\n",
    "a[[0, 2]] = a[[2, 0]]\n",
    "print(a)\n"
   ]
  },
  {
   "cell_type": "markdown",
   "metadata": {},
   "source": [
    "### 24. How to get n largest value of an array?"
   ]
  },
  {
   "cell_type": "code",
   "execution_count": 143,
   "metadata": {},
   "outputs": [
    {
     "name": "stdout",
     "output_type": "stream",
     "text": [
      "[36 95 53 50 28 13 29 14  1 70]\n",
      "[8 5 7 4 6 0 3 2 9 1]\n",
      "36\n"
     ]
    }
   ],
   "source": [
    "array = np.random.randint(1,100,10)\n",
    "print(array)\n",
    "sorted_index = np.argsort(array)\n",
    "n =5\n",
    "print(sorted_index)\n",
    "ind =sorted_index[-n]\n",
    "print(array[ind])"
   ]
  },
  {
   "cell_type": "markdown",
   "metadata": {},
   "source": [
    "### 25.  Given two random arrays of shape 5X5, identify the common elements between them."
   ]
  },
  {
   "cell_type": "code",
   "execution_count": 129,
   "metadata": {},
   "outputs": [
    {
     "name": "stdout",
     "output_type": "stream",
     "text": [
      "[[13 59 77 71 20]\n",
      " [98 60 56 35  0]\n",
      " [29 55 68 99 36]\n",
      " [81 67 10 10 16]\n",
      " [60 41 72 82 65]]\n",
      "[[14 68 33 10 43]\n",
      " [42 26 29 96 64]\n",
      " [46 53 72 23 97]\n",
      " [32 63 12  3  3]\n",
      " [61 27 73 92  3]]\n"
     ]
    },
    {
     "data": {
      "text/plain": [
       "array([10, 29, 68, 72])"
      ]
     },
     "execution_count": 129,
     "metadata": {},
     "output_type": "execute_result"
    }
   ],
   "source": [
    "a = np.random.randint(0,100,(5,5))\n",
    "b = np.random.randint(0,100,(5,5))\n",
    "print(a)\n",
    "print(b)\n",
    "np.intersect1d(a,b)"
   ]
  },
  {
   "cell_type": "markdown",
   "metadata": {},
   "source": [
    "### 26. How to get index of top two highest value in a 1d array?\n",
    "[2,22,11,-11,33,7,13,872,-23]"
   ]
  },
  {
   "cell_type": "code",
   "execution_count": 197,
   "metadata": {},
   "outputs": [
    {
     "name": "stdout",
     "output_type": "stream",
     "text": [
      "[  2  22  11 -11  33   7  13 872 -23]\n",
      "[8 3 0 5 2 6 1 4 7]\n",
      "second highest element index: 4\n"
     ]
    }
   ],
   "source": [
    "a = np.array([2,22,11,-11,33,7,13,872,-23])\n",
    "print(a)\n",
    "b = np.argsort(a)\n",
    "print(b)\n",
    "print(\"second highest element index:\",b[-2])"
   ]
  }
 ],
 "metadata": {
  "kernelspec": {
   "display_name": "Python 3",
   "language": "python",
   "name": "python3"
  },
  "language_info": {
   "codemirror_mode": {
    "name": "ipython",
    "version": 3
   },
   "file_extension": ".py",
   "mimetype": "text/x-python",
   "name": "python",
   "nbconvert_exporter": "python",
   "pygments_lexer": "ipython3",
   "version": "3.6.7"
  }
 },
 "nbformat": 4,
 "nbformat_minor": 4
}
