{
 "cells": [
  {
   "cell_type": "code",
   "execution_count": 3,
   "metadata": {},
   "outputs": [],
   "source": [
    "import pandas as pd"
   ]
  },
  {
   "cell_type": "markdown",
   "metadata": {},
   "source": [
    "# 1. XML data --> https://raw.githubusercontent.com/edyoda/data-science-complete-tutorial/master/Data/student.xml"
   ]
  },
  {
   "cell_type": "markdown",
   "metadata": {},
   "source": [
    "Hardcoding to import xml file"
   ]
  },
  {
   "cell_type": "code",
   "execution_count": 20,
   "metadata": {},
   "outputs": [],
   "source": [
    "import pandas as pd \n",
    "import xml.etree.ElementTree as et \n",
    "\n",
    "xtree = et.parse(\"F:\\EdYoda\\Machine Learning\\Pandas\\student.xml\")\n",
    "xroot = xtree.getroot() \n",
    "\n",
    "df_cols = [\"id\",\"name\", \"salary\"]\n",
    "rows = []\n",
    "\n",
    "for node in xroot: \n",
    "    s_id = node.attrib.get(\"user\")\n",
    "    s_id = node.find(\"id\").text if node is not None else None\n",
    "    s_name = node.find(\"name\").text if node is not None else None\n",
    "    s_salary = node.find(\"salary\").text if node is not None else None\n",
    "    \n",
    "    \n",
    "    rows.append({\"id\":s_id,\"name\": s_name, \"salary\": s_salary}).\n",
    "\n",
    "out_df = pd.DataFrame(rows, columns = df_cols)"
   ]
  },
  {
   "cell_type": "code",
   "execution_count": 21,
   "metadata": {},
   "outputs": [
    {
     "name": "stdout",
     "output_type": "stream",
     "text": [
      "    id        name salary\n",
      "0  123     Shubham      0\n",
      "1  234      Pankaj      0\n",
      "2  345  JournalDev      0\n"
     ]
    }
   ],
   "source": [
    "print(out_df)"
   ]
  },
  {
   "cell_type": "code",
   "execution_count": 28,
   "metadata": {},
   "outputs": [
    {
     "name": "stdout",
     "output_type": "stream",
     "text": [
      "         id     name salary\n",
      "count     3        3      3\n",
      "unique    3        3      1\n",
      "top     123  Shubham      0\n",
      "freq      1        1      3\n"
     ]
    }
   ],
   "source": [
    "print(out_df.describe())"
   ]
  },
  {
   "cell_type": "code",
   "execution_count": 29,
   "metadata": {},
   "outputs": [
    {
     "name": "stdout",
     "output_type": "stream",
     "text": [
      "<class 'pandas.core.frame.DataFrame'>\n",
      "RangeIndex: 3 entries, 0 to 2\n",
      "Data columns (total 3 columns):\n",
      "id        3 non-null object\n",
      "name      3 non-null object\n",
      "salary    3 non-null object\n",
      "dtypes: object(3)\n",
      "memory usage: 200.0+ bytes\n",
      "None\n"
     ]
    }
   ],
   "source": [
    "print(out_df.info())"
   ]
  },
  {
   "cell_type": "code",
   "execution_count": 9,
   "metadata": {},
   "outputs": [],
   "source": [
    "import pandas as pd\n",
    "import xml.etree.ElementTree as et\n",
    "\n",
    "def parse_XML(xml_file, df_cols): \n",
    "    \"\"\"Parse the input XML file and store the result in a pandas \n",
    "    DataFrame with the given columns. \n",
    "    \n",
    "    The first element of df_cols is supposed to be the identifier \n",
    "    variable, which is an attribute of each node element in the \n",
    "    XML data; other features will be parsed from the text content \n",
    "    of each sub-element. \n",
    "    \"\"\"\n",
    "    \n",
    "    xtree = et.parse(xml_file)\n",
    "    xroot = xtree.getroot()\n",
    "    rows = []\n",
    "    \n",
    "    for node in xroot: \n",
    "        res = []\n",
    "        res.append(node.attrib.get(df_cols[0]))\n",
    "        for el in df_cols[1:]: \n",
    "            if node is not None and node.find(el) is not None:\n",
    "                res.append(node.find(el).text)\n",
    "            else: \n",
    "                res.append(None)\n",
    "        rows.append({df_cols[i]: res[i] \n",
    "                     for i, _ in enumerate(df_cols)})\n",
    "    \n",
    "    out_df = pd.DataFrame(rows, columns=df_cols)\n",
    "        \n",
    "    return out_df"
   ]
  },
  {
   "cell_type": "code",
   "execution_count": 26,
   "metadata": {},
   "outputs": [
    {
     "name": "stdout",
     "output_type": "stream",
     "text": [
      "   user   id        name salary\n",
      "0  None  123     Shubham      0\n",
      "1  None  234      Pankaj      0\n",
      "2  None  345  JournalDev      0\n"
     ]
    }
   ],
   "source": [
    "student_xml = parse_XML(\"F:\\EdYoda\\Machine Learning\\Pandas\\student.xml\",[\"user\",\"id\",\"name\", \"salary\"])\n",
    "print(student_xml)"
   ]
  },
  {
   "cell_type": "code",
   "execution_count": 30,
   "metadata": {},
   "outputs": [
    {
     "name": "stdout",
     "output_type": "stream",
     "text": [
      "       user   id     name salary\n",
      "count     0    3        3      3\n",
      "unique    0    3        3      1\n",
      "top     NaN  123  Shubham      0\n",
      "freq    NaN    1        1      3\n"
     ]
    }
   ],
   "source": [
    "print(student_xml.describe())"
   ]
  },
  {
   "cell_type": "code",
   "execution_count": 31,
   "metadata": {},
   "outputs": [
    {
     "name": "stdout",
     "output_type": "stream",
     "text": [
      "<class 'pandas.core.frame.DataFrame'>\n",
      "RangeIndex: 3 entries, 0 to 2\n",
      "Data columns (total 4 columns):\n",
      "user      0 non-null object\n",
      "id        3 non-null object\n",
      "name      3 non-null object\n",
      "salary    3 non-null object\n",
      "dtypes: object(4)\n",
      "memory usage: 224.0+ bytes\n",
      "None\n"
     ]
    }
   ],
   "source": [
    "print(student_xml.info())"
   ]
  },
  {
   "cell_type": "markdown",
   "metadata": {},
   "source": [
    "# 2. JSON datatype --> https://raw.githubusercontent.com/corysimmons/colors.json/master/colors.json#"
   ]
  },
  {
   "cell_type": "code",
   "execution_count": 34,
   "metadata": {},
   "outputs": [
    {
     "name": "stdout",
     "output_type": "stream",
     "text": [
      "   aliceblue  antiquewhite  aqua  aquamarine  azure  beige  bisque  black  \\\n",
      "0        240           250     0         127    240    245     255      0   \n",
      "1        248           235   255         255    255    245     228      0   \n",
      "2        255           215   255         212    255    220     196      0   \n",
      "3          1             1     1           1      1      1       1      1   \n",
      "\n",
      "   blanchedalmond  blue  ...  tomato  transparent  turquoise  violet  wheat  \\\n",
      "0             255     0  ...     255            0         64     238    245   \n",
      "1             235     0  ...      99            0        224     130    222   \n",
      "2             205   255  ...      71            0        208     238    179   \n",
      "3               1     1  ...       1            0          1       1      1   \n",
      "\n",
      "   white  whitesmoke  yellow  yellowgreen  rebeccapurple  \n",
      "0    255         245     255          154            102  \n",
      "1    255         245     255          205             51  \n",
      "2    255         245       0           50            153  \n",
      "3      1           1       1            1              1  \n",
      "\n",
      "[4 rows x 149 columns]\n"
     ]
    }
   ],
   "source": [
    "colors_json = pd.read_json(\"F:\\EdYoda\\Machine Learning\\Pandas\\colors.json\")\n",
    "print(colors_json)"
   ]
  },
  {
   "cell_type": "code",
   "execution_count": 35,
   "metadata": {},
   "outputs": [
    {
     "name": "stdout",
     "output_type": "stream",
     "text": [
      "        aliceblue  antiquewhite        aqua  aquamarine       azure  \\\n",
      "count    4.000000      4.000000    4.000000    4.000000    4.000000   \n",
      "mean   186.000000    175.250000  127.750000  148.750000  187.750000   \n",
      "std    123.485492    117.048067  146.936211  111.941577  124.700642   \n",
      "min      1.000000      1.000000    0.000000    1.000000    1.000000   \n",
      "25%    180.250000    161.500000    0.750000   95.500000  180.250000   \n",
      "50%    244.000000    225.000000  128.000000  169.500000  247.500000   \n",
      "75%    249.750000    238.750000  255.000000  222.750000  255.000000   \n",
      "max    255.000000    250.000000  255.000000  255.000000  255.000000   \n",
      "\n",
      "            beige      bisque  black  blanchedalmond        blue  ...  \\\n",
      "count    4.000000    4.000000   4.00        4.000000    4.000000  ...   \n",
      "mean   177.750000  170.000000   0.25      174.000000   64.000000  ...   \n",
      "std    118.421212  115.218633   0.50      117.149477  127.334206  ...   \n",
      "min      1.000000    1.000000   0.00        1.000000    0.000000  ...   \n",
      "25%    165.250000  147.250000   0.00      154.000000    0.000000  ...   \n",
      "50%    232.500000  212.000000   0.00      220.000000    0.500000  ...   \n",
      "75%    245.000000  234.750000   0.25      240.000000   64.500000  ...   \n",
      "max    245.000000  255.000000   1.00      255.000000  255.000000  ...   \n",
      "\n",
      "           tomato  transparent   turquoise      violet       wheat  white  \\\n",
      "count    4.000000          4.0    4.000000    4.000000    4.000000    4.0   \n",
      "mean   106.500000          0.0  124.250000  151.750000  161.750000  191.5   \n",
      "std    107.236499          0.0  109.216528  112.659886  110.602517  127.0   \n",
      "min      1.000000          0.0    1.000000    1.000000    1.000000    1.0   \n",
      "25%     53.500000          0.0   48.250000   97.750000  134.500000  191.5   \n",
      "50%     85.000000          0.0  136.000000  184.000000  200.500000  255.0   \n",
      "75%    138.000000          0.0  212.000000  238.000000  227.750000  255.0   \n",
      "max    255.000000          0.0  224.000000  238.000000  245.000000  255.0   \n",
      "\n",
      "       whitesmoke      yellow  yellowgreen  rebeccapurple  \n",
      "count         4.0    4.000000     4.000000       4.000000  \n",
      "mean        184.0  127.750000   102.500000      76.750000  \n",
      "std         122.0  146.936211    93.482619      65.454182  \n",
      "min           1.0    0.000000     1.000000       1.000000  \n",
      "25%         184.0    0.750000    37.750000      38.500000  \n",
      "50%         245.0  128.000000   102.000000      76.500000  \n",
      "75%         245.0  255.000000   166.750000     114.750000  \n",
      "max         245.0  255.000000   205.000000     153.000000  \n",
      "\n",
      "[8 rows x 149 columns]\n"
     ]
    }
   ],
   "source": [
    "print(colors_json.describe())"
   ]
  },
  {
   "cell_type": "code",
   "execution_count": 36,
   "metadata": {},
   "outputs": [
    {
     "name": "stdout",
     "output_type": "stream",
     "text": [
      "<class 'pandas.core.frame.DataFrame'>\n",
      "RangeIndex: 4 entries, 0 to 3\n",
      "Columns: 149 entries, aliceblue to rebeccapurple\n",
      "dtypes: int64(149)\n",
      "memory usage: 4.8 KB\n",
      "None\n"
     ]
    }
   ],
   "source": [
    "print(colors_json.info())"
   ]
  },
  {
   "cell_type": "markdown",
   "metadata": {},
   "source": [
    "# 3. XLSX (Excel) --> https://github.com/edyoda/data-science-complete-tutorial/blob/master/Data/sales-funnel.xlsx\n",
    "You can use your own data also. when you click on b=view raw it will download file automatically."
   ]
  },
  {
   "cell_type": "code",
   "execution_count": 40,
   "metadata": {},
   "outputs": [
    {
     "name": "stdout",
     "output_type": "stream",
     "text": [
      "   Account                          Name            Rep       Manager  \\\n",
      "0   714466               Trantow-Barrows   Craig Booker  Debra Henley   \n",
      "1   714466               Trantow-Barrows   Craig Booker  Debra Henley   \n",
      "2   714466               Trantow-Barrows   Craig Booker  Debra Henley   \n",
      "3   737550  Fritsch, Russel and Anderson   Craig Booker  Debra Henley   \n",
      "4   146832                  Kiehn-Spinka  Daniel Hilton  Debra Henley   \n",
      "\n",
      "       Product  Quantity  Price     Status  \n",
      "0          CPU         1  30000  presented  \n",
      "1     Software         1  10000  presented  \n",
      "2  Maintenance         2   5000    pending  \n",
      "3          CPU         1  35000   declined  \n",
      "4          CPU         2  65000        won  \n"
     ]
    }
   ],
   "source": [
    "sales_xlsx = pd.read_excel(\"F:\\EdYoda\\Machine Learning\\Pandas\\sales-funnel.xlsx\")\n",
    "print(sales_xlsx.head())"
   ]
  },
  {
   "cell_type": "code",
   "execution_count": 38,
   "metadata": {},
   "outputs": [
    {
     "name": "stdout",
     "output_type": "stream",
     "text": [
      "             Account   Quantity          Price\n",
      "count      17.000000  17.000000      17.000000\n",
      "mean   462254.235294   1.764706   30705.882353\n",
      "std    259093.442862   1.032558   28444.605609\n",
      "min    141962.000000   1.000000    5000.000000\n",
      "25%    218895.000000   1.000000    7000.000000\n",
      "50%    412290.000000   2.000000   30000.000000\n",
      "75%    714466.000000   2.000000   40000.000000\n",
      "max    740150.000000   5.000000  100000.000000\n"
     ]
    }
   ],
   "source": [
    "print(sales_xlsx.describe())"
   ]
  },
  {
   "cell_type": "code",
   "execution_count": 39,
   "metadata": {},
   "outputs": [
    {
     "name": "stdout",
     "output_type": "stream",
     "text": [
      "<class 'pandas.core.frame.DataFrame'>\n",
      "RangeIndex: 17 entries, 0 to 16\n",
      "Data columns (total 8 columns):\n",
      "Account     17 non-null int64\n",
      "Name        17 non-null object\n",
      "Rep         17 non-null object\n",
      "Manager     17 non-null object\n",
      "Product     17 non-null object\n",
      "Quantity    17 non-null int64\n",
      "Price       17 non-null int64\n",
      "Status      17 non-null object\n",
      "dtypes: int64(3), object(5)\n",
      "memory usage: 1.2+ KB\n",
      "None\n"
     ]
    }
   ],
   "source": [
    "print(sales_xlsx.info())"
   ]
  },
  {
   "cell_type": "markdown",
   "metadata": {},
   "source": [
    "# converting xlsx to pkl"
   ]
  },
  {
   "cell_type": "code",
   "execution_count": 43,
   "metadata": {},
   "outputs": [],
   "source": [
    "sales_xlsx.to_pickle(\"sales.pkl\")"
   ]
  },
  {
   "cell_type": "code",
   "execution_count": 45,
   "metadata": {},
   "outputs": [
    {
     "name": "stdout",
     "output_type": "stream",
     "text": [
      "    Account                          Name            Rep        Manager  \\\n",
      "0    714466               Trantow-Barrows   Craig Booker   Debra Henley   \n",
      "1    714466               Trantow-Barrows   Craig Booker   Debra Henley   \n",
      "2    714466               Trantow-Barrows   Craig Booker   Debra Henley   \n",
      "3    737550  Fritsch, Russel and Anderson   Craig Booker   Debra Henley   \n",
      "4    146832                  Kiehn-Spinka  Daniel Hilton   Debra Henley   \n",
      "5    218895                     Kulas Inc  Daniel Hilton   Debra Henley   \n",
      "6    218895                     Kulas Inc  Daniel Hilton   Debra Henley   \n",
      "7    412290                 Jerde-Hilpert     John Smith   Debra Henley   \n",
      "8    740150                    Barton LLC     John Smith   Debra Henley   \n",
      "9    141962                    Herman LLC    Cedric Moss  Fred Anderson   \n",
      "10   163416                   Purdy-Kunde    Cedric Moss  Fred Anderson   \n",
      "11   239344                    Stokes LLC    Cedric Moss  Fred Anderson   \n",
      "12   239344                    Stokes LLC    Cedric Moss  Fred Anderson   \n",
      "13   307599   Kassulke, Ondricka and Metz     Wendy Yule  Fred Anderson   \n",
      "14   688981                   Keeling LLC     Wendy Yule  Fred Anderson   \n",
      "15   729833                     Koepp Ltd     Wendy Yule  Fred Anderson   \n",
      "16   729833                     Koepp Ltd     Wendy Yule  Fred Anderson   \n",
      "\n",
      "        Product  Quantity   Price     Status  \n",
      "0           CPU         1   30000  presented  \n",
      "1      Software         1   10000  presented  \n",
      "2   Maintenance         2    5000    pending  \n",
      "3           CPU         1   35000   declined  \n",
      "4           CPU         2   65000        won  \n",
      "5           CPU         2   40000    pending  \n",
      "6      Software         1   10000  presented  \n",
      "7   Maintenance         2    5000    pending  \n",
      "8           CPU         1   35000   declined  \n",
      "9           CPU         2   65000        won  \n",
      "10          CPU         1   30000  presented  \n",
      "11  Maintenance         1    5000    pending  \n",
      "12     Software         1   10000  presented  \n",
      "13  Maintenance         3    7000        won  \n",
      "14          CPU         5  100000        won  \n",
      "15          CPU         2   65000   declined  \n",
      "16      Monitor         2    5000  presented  \n"
     ]
    }
   ],
   "source": [
    "sales_pkl = pd.read_pickle(\"sales.pkl\")\n",
    "print(sales_pkl)"
   ]
  },
  {
   "cell_type": "markdown",
   "metadata": {},
   "source": [
    "# 5. Simple text data it can be read as csv . link--> https://raw.githubusercontent.com/edyoda/data-science-complete-tutorial/master/Data/adult.data.txt"
   ]
  },
  {
   "cell_type": "code",
   "execution_count": 4,
   "metadata": {},
   "outputs": [],
   "source": [
    "adult_data =pd.read_csv(\"https://raw.githubusercontent.com/edyoda/data-science-complete-tutorial/master/Data/adult.data.txt\")"
   ]
  },
  {
   "cell_type": "code",
   "execution_count": 5,
   "metadata": {},
   "outputs": [
    {
     "name": "stdout",
     "output_type": "stream",
     "text": [
      "       39          State-gov   77516    Bachelors   13        Never-married  \\\n",
      "0      50   Self-emp-not-inc   83311    Bachelors   13   Married-civ-spouse   \n",
      "1      38            Private  215646      HS-grad    9             Divorced   \n",
      "2      53            Private  234721         11th    7   Married-civ-spouse   \n",
      "3      28            Private  338409    Bachelors   13   Married-civ-spouse   \n",
      "4      37            Private  284582      Masters   14   Married-civ-spouse   \n",
      "...    ..                ...     ...          ...  ...                  ...   \n",
      "32555  27            Private  257302   Assoc-acdm   12   Married-civ-spouse   \n",
      "32556  40            Private  154374      HS-grad    9   Married-civ-spouse   \n",
      "32557  58            Private  151910      HS-grad    9              Widowed   \n",
      "32558  22            Private  201490      HS-grad    9        Never-married   \n",
      "32559  52       Self-emp-inc  287927      HS-grad    9   Married-civ-spouse   \n",
      "\n",
      "             Adm-clerical   Not-in-family   White     Male   2174   0   40  \\\n",
      "0         Exec-managerial         Husband   White     Male      0   0   13   \n",
      "1       Handlers-cleaners   Not-in-family   White     Male      0   0   40   \n",
      "2       Handlers-cleaners         Husband   Black     Male      0   0   40   \n",
      "3          Prof-specialty            Wife   Black   Female      0   0   40   \n",
      "4         Exec-managerial            Wife   White   Female      0   0   40   \n",
      "...                   ...             ...     ...      ...    ...  ..  ...   \n",
      "32555        Tech-support            Wife   White   Female      0   0   38   \n",
      "32556   Machine-op-inspct         Husband   White     Male      0   0   40   \n",
      "32557        Adm-clerical       Unmarried   White   Female      0   0   40   \n",
      "32558        Adm-clerical       Own-child   White     Male      0   0   20   \n",
      "32559     Exec-managerial            Wife   White   Female  15024   0   40   \n",
      "\n",
      "        United-States   <=50K  \n",
      "0       United-States   <=50K  \n",
      "1       United-States   <=50K  \n",
      "2       United-States   <=50K  \n",
      "3                Cuba   <=50K  \n",
      "4       United-States   <=50K  \n",
      "...               ...     ...  \n",
      "32555   United-States   <=50K  \n",
      "32556   United-States    >50K  \n",
      "32557   United-States   <=50K  \n",
      "32558   United-States   <=50K  \n",
      "32559   United-States    >50K  \n",
      "\n",
      "[32560 rows x 15 columns]\n"
     ]
    }
   ],
   "source": [
    "print(adult_data)"
   ]
  },
  {
   "cell_type": "code",
   "execution_count": 6,
   "metadata": {},
   "outputs": [
    {
     "name": "stdout",
     "output_type": "stream",
     "text": [
      "       0                  1       2            3   4                    5   \\\n",
      "0      39          State-gov   77516    Bachelors  13        Never-married   \n",
      "1      50   Self-emp-not-inc   83311    Bachelors  13   Married-civ-spouse   \n",
      "2      38            Private  215646      HS-grad   9             Divorced   \n",
      "3      53            Private  234721         11th   7   Married-civ-spouse   \n",
      "4      28            Private  338409    Bachelors  13   Married-civ-spouse   \n",
      "...    ..                ...     ...          ...  ..                  ...   \n",
      "32556  27            Private  257302   Assoc-acdm  12   Married-civ-spouse   \n",
      "32557  40            Private  154374      HS-grad   9   Married-civ-spouse   \n",
      "32558  58            Private  151910      HS-grad   9              Widowed   \n",
      "32559  22            Private  201490      HS-grad   9        Never-married   \n",
      "32560  52       Self-emp-inc  287927      HS-grad   9   Married-civ-spouse   \n",
      "\n",
      "                       6               7       8        9      10  11  12  \\\n",
      "0            Adm-clerical   Not-in-family   White     Male   2174   0  40   \n",
      "1         Exec-managerial         Husband   White     Male      0   0  13   \n",
      "2       Handlers-cleaners   Not-in-family   White     Male      0   0  40   \n",
      "3       Handlers-cleaners         Husband   Black     Male      0   0  40   \n",
      "4          Prof-specialty            Wife   Black   Female      0   0  40   \n",
      "...                   ...             ...     ...      ...    ...  ..  ..   \n",
      "32556        Tech-support            Wife   White   Female      0   0  38   \n",
      "32557   Machine-op-inspct         Husband   White     Male      0   0  40   \n",
      "32558        Adm-clerical       Unmarried   White   Female      0   0  40   \n",
      "32559        Adm-clerical       Own-child   White     Male      0   0  20   \n",
      "32560     Exec-managerial            Wife   White   Female  15024   0  40   \n",
      "\n",
      "                   13      14  \n",
      "0       United-States   <=50K  \n",
      "1       United-States   <=50K  \n",
      "2       United-States   <=50K  \n",
      "3       United-States   <=50K  \n",
      "4                Cuba   <=50K  \n",
      "...               ...     ...  \n",
      "32556   United-States   <=50K  \n",
      "32557   United-States    >50K  \n",
      "32558   United-States   <=50K  \n",
      "32559   United-States   <=50K  \n",
      "32560   United-States    >50K  \n",
      "\n",
      "[32561 rows x 15 columns]\n"
     ]
    }
   ],
   "source": [
    "adult_csv = pd.read_csv(\"F:/EdYoda/Machine Learning/Pandas/adult_data.txt\",header=None)\n",
    "print(adult_csv)"
   ]
  },
  {
   "cell_type": "code",
   "execution_count": 7,
   "metadata": {},
   "outputs": [
    {
     "ename": "AttributeError",
     "evalue": "'DataFrame' object has no attribute 'decribe'",
     "output_type": "error",
     "traceback": [
      "\u001b[1;31m---------------------------------------------------------------------------\u001b[0m",
      "\u001b[1;31mAttributeError\u001b[0m                            Traceback (most recent call last)",
      "\u001b[1;32m<ipython-input-7-0115ffc73595>\u001b[0m in \u001b[0;36m<module>\u001b[1;34m\u001b[0m\n\u001b[1;32m----> 1\u001b[1;33m \u001b[0madult_csv\u001b[0m\u001b[1;33m.\u001b[0m\u001b[0mdecribe\u001b[0m\u001b[1;33m(\u001b[0m\u001b[1;33m)\u001b[0m\u001b[1;33m\u001b[0m\u001b[1;33m\u001b[0m\u001b[0m\n\u001b[0m",
      "\u001b[1;32mC:\\ProgramData\\Anaconda3\\lib\\site-packages\\pandas\\core\\generic.py\u001b[0m in \u001b[0;36m__getattr__\u001b[1;34m(self, name)\u001b[0m\n\u001b[0;32m   5177\u001b[0m             \u001b[1;32mif\u001b[0m \u001b[0mself\u001b[0m\u001b[1;33m.\u001b[0m\u001b[0m_info_axis\u001b[0m\u001b[1;33m.\u001b[0m\u001b[0m_can_hold_identifiers_and_holds_name\u001b[0m\u001b[1;33m(\u001b[0m\u001b[0mname\u001b[0m\u001b[1;33m)\u001b[0m\u001b[1;33m:\u001b[0m\u001b[1;33m\u001b[0m\u001b[1;33m\u001b[0m\u001b[0m\n\u001b[0;32m   5178\u001b[0m                 \u001b[1;32mreturn\u001b[0m \u001b[0mself\u001b[0m\u001b[1;33m[\u001b[0m\u001b[0mname\u001b[0m\u001b[1;33m]\u001b[0m\u001b[1;33m\u001b[0m\u001b[1;33m\u001b[0m\u001b[0m\n\u001b[1;32m-> 5179\u001b[1;33m             \u001b[1;32mreturn\u001b[0m \u001b[0mobject\u001b[0m\u001b[1;33m.\u001b[0m\u001b[0m__getattribute__\u001b[0m\u001b[1;33m(\u001b[0m\u001b[0mself\u001b[0m\u001b[1;33m,\u001b[0m \u001b[0mname\u001b[0m\u001b[1;33m)\u001b[0m\u001b[1;33m\u001b[0m\u001b[1;33m\u001b[0m\u001b[0m\n\u001b[0m\u001b[0;32m   5180\u001b[0m \u001b[1;33m\u001b[0m\u001b[0m\n\u001b[0;32m   5181\u001b[0m     \u001b[1;32mdef\u001b[0m \u001b[0m__setattr__\u001b[0m\u001b[1;33m(\u001b[0m\u001b[0mself\u001b[0m\u001b[1;33m,\u001b[0m \u001b[0mname\u001b[0m\u001b[1;33m,\u001b[0m \u001b[0mvalue\u001b[0m\u001b[1;33m)\u001b[0m\u001b[1;33m:\u001b[0m\u001b[1;33m\u001b[0m\u001b[1;33m\u001b[0m\u001b[0m\n",
      "\u001b[1;31mAttributeError\u001b[0m: 'DataFrame' object has no attribute 'decribe'"
     ]
    }
   ],
   "source": [
    "adult_csv.decribe()"
   ]
  },
  {
   "cell_type": "code",
   "execution_count": 8,
   "metadata": {},
   "outputs": [
    {
     "name": "stdout",
     "output_type": "stream",
     "text": [
      "<class 'pandas.core.frame.DataFrame'>\n",
      "RangeIndex: 32561 entries, 0 to 32560\n",
      "Data columns (total 15 columns):\n",
      "0     32561 non-null int64\n",
      "1     32561 non-null object\n",
      "2     32561 non-null int64\n",
      "3     32561 non-null object\n",
      "4     32561 non-null int64\n",
      "5     32561 non-null object\n",
      "6     32561 non-null object\n",
      "7     32561 non-null object\n",
      "8     32561 non-null object\n",
      "9     32561 non-null object\n",
      "10    32561 non-null int64\n",
      "11    32561 non-null int64\n",
      "12    32561 non-null int64\n",
      "13    32561 non-null object\n",
      "14    32561 non-null object\n",
      "dtypes: int64(6), object(9)\n",
      "memory usage: 3.7+ MB\n"
     ]
    }
   ],
   "source": [
    "adult_csv.info()"
   ]
  }
 ],
 "metadata": {
  "kernelspec": {
   "display_name": "Python 3",
   "language": "python",
   "name": "python3"
  },
  "language_info": {
   "codemirror_mode": {
    "name": "ipython",
    "version": 3
   },
   "file_extension": ".py",
   "mimetype": "text/x-python",
   "name": "python",
   "nbconvert_exporter": "python",
   "pygments_lexer": "ipython3",
   "version": "3.7.4"
  }
 },
 "nbformat": 4,
 "nbformat_minor": 2
}
