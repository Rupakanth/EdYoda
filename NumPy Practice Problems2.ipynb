{
 "cells": [
  {
   "cell_type": "markdown",
   "metadata": {},
   "source": [
    "## NumPy : Practice Problems 2: Solution\n",
    "Easy Questions : 5\n",
    "\n",
    "Moderate Questions : 7\n",
    "\n",
    "Hard Questions : 3\n",
    "<hr>\n"
   ]
  },
  {
   "cell_type": "markdown",
   "metadata": {},
   "source": [
    "### 1. Create an array and find sum of it.\n",
    "Level: Easy"
   ]
  },
  {
   "cell_type": "code",
   "execution_count": 2,
   "metadata": {},
   "outputs": [],
   "source": [
    "import numpy as np"
   ]
  },
  {
   "cell_type": "code",
   "execution_count": 5,
   "metadata": {},
   "outputs": [
    {
     "name": "stdout",
     "output_type": "stream",
     "text": [
      "[[ 4 23 32]\n",
      " [ 3 15  7]\n",
      " [22 11 38]]\n"
     ]
    },
    {
     "data": {
      "text/plain": [
       "155"
      ]
     },
     "execution_count": 5,
     "metadata": {},
     "output_type": "execute_result"
    }
   ],
   "source": [
    "arr = np.random.randint(1,50,(3,3))\n",
    "print(arr)\n",
    "a = arr.sum()\n",
    "a"
   ]
  },
  {
   "cell_type": "markdown",
   "metadata": {},
   "source": [
    "### 2. Find sin of given array.\n",
    "Level: Easy\n"
   ]
  },
  {
   "cell_type": "code",
   "execution_count": 8,
   "metadata": {},
   "outputs": [
    {
     "name": "stdout",
     "output_type": "stream",
     "text": [
      "[[11 15 45]\n",
      " [14 49 44]\n",
      " [43 14 27]]\n"
     ]
    },
    {
     "data": {
      "text/plain": [
       "array([[-0.99999021,  0.65028784,  0.85090352],\n",
       "       [ 0.99060736, -0.95375265,  0.01770193],\n",
       "       [-0.83177474,  0.99060736,  0.95637593]])"
      ]
     },
     "execution_count": 8,
     "metadata": {},
     "output_type": "execute_result"
    }
   ],
   "source": [
    "arr = np.random.randint(1,50,(3,3))\n",
    "print(arr)\n",
    "s = np.sin(arr)\n",
    "s"
   ]
  },
  {
   "cell_type": "markdown",
   "metadata": {},
   "source": [
    "### 3. Find mean of matrix along row and column.\n",
    "Level: Easy"
   ]
  },
  {
   "cell_type": "code",
   "execution_count": 10,
   "metadata": {},
   "outputs": [
    {
     "name": "stdout",
     "output_type": "stream",
     "text": [
      "[[41 17 37]\n",
      " [47 43 33]\n",
      " [45 23 12]]\n",
      "row wise mean [31.66666667 41.         26.66666667]\n",
      "column wise mean [44.33333333 27.66666667 27.33333333]\n"
     ]
    }
   ],
   "source": [
    "arr = np.random.randint(1,50,(3,3))\n",
    "print(arr)\n",
    "print(\"row wise mean\",arr.mean(axis=1))\n",
    "print(\"column wise mean\",arr.mean(axis=0))"
   ]
  },
  {
   "cell_type": "markdown",
   "metadata": {},
   "source": [
    "### 4. Find standard deviation of given array.\n",
    "Level: Easy"
   ]
  },
  {
   "cell_type": "code",
   "execution_count": 12,
   "metadata": {},
   "outputs": [
    {
     "data": {
      "text/plain": [
       "12.096321244672737"
      ]
     },
     "execution_count": 12,
     "metadata": {},
     "output_type": "execute_result"
    }
   ],
   "source": [
    "std = np.std(arr)\n",
    "std"
   ]
  },
  {
   "cell_type": "markdown",
   "metadata": {},
   "source": [
    "### 5. Create a 3*3 matrix and print it's transpose matrix\n",
    "Level: Easy"
   ]
  },
  {
   "cell_type": "code",
   "execution_count": 14,
   "metadata": {},
   "outputs": [
    {
     "name": "stdout",
     "output_type": "stream",
     "text": [
      "[[41 17 37]\n",
      " [47 43 33]\n",
      " [45 23 12]]\n"
     ]
    },
    {
     "data": {
      "text/plain": [
       "array([[41, 47, 45],\n",
       "       [17, 43, 23],\n",
       "       [37, 33, 12]])"
      ]
     },
     "execution_count": 14,
     "metadata": {},
     "output_type": "execute_result"
    }
   ],
   "source": [
    "print(arr)\n",
    "transpose = np.transpose(arr)\n",
    "transpose"
   ]
  },
  {
   "cell_type": "markdown",
   "metadata": {},
   "source": [
    "### 6. Create an array of 3*3 and find index of max along both axis.\n",
    "\n",
    "Level: Medium"
   ]
  },
  {
   "cell_type": "code",
   "execution_count": 150,
   "metadata": {},
   "outputs": [
    {
     "name": "stdout",
     "output_type": "stream",
     "text": [
      "[[29 27 19]\n",
      " [32  1 13]\n",
      " [14 22 24]]\n",
      "32\n"
     ]
    },
    {
     "data": {
      "text/plain": [
       "(array([1], dtype=int64), array([0], dtype=int64))"
      ]
     },
     "execution_count": 150,
     "metadata": {},
     "output_type": "execute_result"
    }
   ],
   "source": [
    "data = np.random.randint(1,50,(3,3))\n",
    "print(data)\n",
    "a=data.max()\n",
    "print(a)\n",
    "np.where (data == a)"
   ]
  },
  {
   "cell_type": "code",
   "execution_count": 149,
   "metadata": {},
   "outputs": [
    {
     "name": "stdout",
     "output_type": "stream",
     "text": [
      "[[17 49 22]\n",
      " [26 37  9]\n",
      " [33 29 46]]\n",
      "[2 0 2]\n",
      "[1 1 2]\n"
     ]
    }
   ],
   "source": [
    "data = np.random.randint(1,50,(3,3))\n",
    "print(data)\n",
    "print(data.argmax(axis=0))\n",
    "print(data.argmax(axis=1))"
   ]
  },
  {
   "cell_type": "markdown",
   "metadata": {},
   "source": [
    "### 7.  find sum of two matrix.\n",
    "Level: Medium"
   ]
  },
  {
   "cell_type": "code",
   "execution_count": 175,
   "metadata": {},
   "outputs": [
    {
     "name": "stdout",
     "output_type": "stream",
     "text": [
      "[[0.62997388 0.82768616 0.62717145]\n",
      " [0.98775886 0.34655129 0.10046559]\n",
      " [0.8417278  0.03069933 0.14276212]]\n",
      "[[2 1 9 7]\n",
      " [6 8 8 6]\n",
      " [9 4 5 2]\n",
      " [6 2 4 9]]\n",
      "[[2.62997388 1.62997388 9.62997388 7.62997388 6.62997388 8.62997388\n",
      "  8.62997388 6.62997388 9.62997388 4.62997388 5.62997388 2.62997388]\n",
      " [6.62997388 2.62997388 4.62997388 9.62997388 2.82768616 1.82768616\n",
      "  9.82768616 7.82768616 6.82768616 8.82768616 8.82768616 6.82768616]\n",
      " [9.82768616 4.82768616 5.82768616 2.82768616 6.82768616 2.82768616\n",
      "  4.82768616 9.82768616 2.62717145 1.62717145 9.62717145 7.62717145]\n",
      " [6.62717145 8.62717145 8.62717145 6.62717145 9.62717145 4.62717145\n",
      "  5.62717145 2.62717145 6.62717145 2.62717145 4.62717145 9.62717145]\n",
      " [2.98775886 1.98775886 9.98775886 7.98775886 6.98775886 8.98775886\n",
      "  8.98775886 6.98775886 9.98775886 4.98775886 5.98775886 2.98775886]\n",
      " [6.98775886 2.98775886 4.98775886 9.98775886 2.34655129 1.34655129\n",
      "  9.34655129 7.34655129 6.34655129 8.34655129 8.34655129 6.34655129]\n",
      " [9.34655129 4.34655129 5.34655129 2.34655129 6.34655129 2.34655129\n",
      "  4.34655129 9.34655129 2.10046559 1.10046559 9.10046559 7.10046559]\n",
      " [6.10046559 8.10046559 8.10046559 6.10046559 9.10046559 4.10046559\n",
      "  5.10046559 2.10046559 6.10046559 2.10046559 4.10046559 9.10046559]\n",
      " [2.8417278  1.8417278  9.8417278  7.8417278  6.8417278  8.8417278\n",
      "  8.8417278  6.8417278  9.8417278  4.8417278  5.8417278  2.8417278 ]\n",
      " [6.8417278  2.8417278  4.8417278  9.8417278  2.03069933 1.03069933\n",
      "  9.03069933 7.03069933 6.03069933 8.03069933 8.03069933 6.03069933]\n",
      " [9.03069933 4.03069933 5.03069933 2.03069933 6.03069933 2.03069933\n",
      "  4.03069933 9.03069933 2.14276212 1.14276212 9.14276212 7.14276212]\n",
      " [6.14276212 8.14276212 8.14276212 6.14276212 9.14276212 4.14276212\n",
      "  5.14276212 2.14276212 6.14276212 2.14276212 4.14276212 9.14276212]]\n"
     ]
    }
   ],
   "source": [
    "a =np.random.rand(3,3)\n",
    "print(a)\n",
    "b =np.random.randint(1,10,(4,4))\n",
    "print(b)\n",
    "sums =[]\n",
    "for i in np.nditer(a):\n",
    "    for j in np.nditer(b):\n",
    "        sums.append(i+j)\n",
    "print(np.array(sums).reshape(12,12))"
   ]
  },
  {
   "cell_type": "code",
   "execution_count": 176,
   "metadata": {},
   "outputs": [
    {
     "name": "stdout",
     "output_type": "stream",
     "text": [
      "[[ 2  3  5]\n",
      " [ 5  8 21]]\n"
     ]
    },
    {
     "data": {
      "text/plain": [
       "array([[ 3,  5,  8],\n",
       "       [ 6, 10, 24]])"
      ]
     },
     "execution_count": 176,
     "metadata": {},
     "output_type": "execute_result"
    }
   ],
   "source": [
    "a = np.array([[2,3,5],[5,8,21]])\n",
    "print(a)\n",
    "v = [1,2,3]\n",
    "a+v"
   ]
  },
  {
   "cell_type": "markdown",
   "metadata": {},
   "source": [
    "### 8. Find indexes of max element along axis=0 and axis=1 .\n",
    "Level: Medium"
   ]
  },
  {
   "cell_type": "code",
   "execution_count": 177,
   "metadata": {},
   "outputs": [
    {
     "name": "stdout",
     "output_type": "stream",
     "text": [
      "[[25 41 24]\n",
      " [ 8 49 17]\n",
      " [27  2 43]]\n",
      "[2 1 2]\n",
      "[1 1 2]\n"
     ]
    }
   ],
   "source": [
    "data = np.random.randint(1,50,(3,3))\n",
    "print(data)\n",
    "print(data.argmax(axis=0))\n",
    "print(data.argmax(axis=1))"
   ]
  },
  {
   "cell_type": "markdown",
   "metadata": {},
   "source": [
    "### 9. Write a program to add two arrays of different shape.\n",
    "Hint: Broadcasting\n",
    "Level: Medium\n",
    "sample input:\n",
    "\n",
    "a=[0.0,10.0,20.0,30.0]\n",
    "\n",
    "b=[1.0,2.0,3.0]\n",
    "\n",
    "output:\n",
    "\n",
    "[[  1.,   2.,   3.],\n",
    "\n",
    " [ 11.,  12.,  13.],\n",
    " \n",
    " [ 21.,  22.,  23.],\n",
    " \n",
    " [ 31.,  32.,  33.]]"
   ]
  },
  {
   "cell_type": "code",
   "execution_count": 168,
   "metadata": {},
   "outputs": [
    {
     "data": {
      "text/plain": [
       "array([[ 1.,  2.,  3.],\n",
       "       [11., 12., 13.],\n",
       "       [21., 22., 23.],\n",
       "       [31., 32., 33.]])"
      ]
     },
     "execution_count": 168,
     "metadata": {},
     "output_type": "execute_result"
    }
   ],
   "source": [
    "a = np.array([0.0, 10.0, 20.0, 30.0])\n",
    "b = np.array([1.0, 2.0, 3.0])\n",
    "a[:, np.newaxis]+b"
   ]
  },
  {
   "cell_type": "markdown",
   "metadata": {},
   "source": [
    "# 10. Try to solve a array and print a array with indices which would sort the given array.\n",
    "\n",
    "sample input:\n",
    "\n",
    "a = [3,1,8,2]\n",
    "\n",
    "output:\n",
    "\n",
    "[1,3,0,2]"
   ]
  },
  {
   "cell_type": "code",
   "execution_count": 151,
   "metadata": {},
   "outputs": [
    {
     "data": {
      "text/plain": [
       "array([1, 3, 0, 2], dtype=int64)"
      ]
     },
     "execution_count": 151,
     "metadata": {},
     "output_type": "execute_result"
    }
   ],
   "source": [
    "x = np.array([3,1,8,2])\n",
    "np.argsort(x)"
   ]
  },
  {
   "cell_type": "markdown",
   "metadata": {},
   "source": [
    "### 11. Try to do perform same operation mentioned in previous questions for multidimentional array along both axis.\n",
    "\n",
    "Level: Medium"
   ]
  },
  {
   "cell_type": "code",
   "execution_count": 158,
   "metadata": {},
   "outputs": [
    {
     "name": "stdout",
     "output_type": "stream",
     "text": [
      "[[29  7 15]\n",
      " [25  2 43]\n",
      " [18 18 11]]\n"
     ]
    },
    {
     "data": {
      "text/plain": [
       "array([[2, 1, 2],\n",
       "       [1, 0, 0],\n",
       "       [0, 2, 1]], dtype=int64)"
      ]
     },
     "execution_count": 158,
     "metadata": {},
     "output_type": "execute_result"
    }
   ],
   "source": [
    "a = np.random.randint(1,50,(3,3))\n",
    "print(a)\n",
    "np.argsort(a,axis=0)"
   ]
  },
  {
   "cell_type": "code",
   "execution_count": 178,
   "metadata": {},
   "outputs": [
    {
     "name": "stdout",
     "output_type": "stream",
     "text": [
      "along axis 1:\n",
      " [[2 0 1]\n",
      " [1 0 2]\n",
      " [1 2 0]]\n",
      "along axis 0:\n",
      " [[0 2 0]\n",
      " [2 1 2]\n",
      " [1 0 1]]\n"
     ]
    }
   ],
   "source": [
    "x = np.random.randint(10,50,(3,3))\n",
    "print(\"along axis 1:\\n\",np.argsort(x, axis=1))\n",
    "print(\"along axis 0:\\n\",np.argsort(x, axis=0))"
   ]
  },
  {
   "cell_type": "markdown",
   "metadata": {},
   "source": [
    "### 12. calculate multiplication of transpose and matrix itself of a 3*3 matrix.\n",
    "Level: Medium"
   ]
  },
  {
   "cell_type": "code",
   "execution_count": 33,
   "metadata": {},
   "outputs": [
    {
     "name": "stdout",
     "output_type": "stream",
     "text": [
      "[[4 8 2]\n",
      " [2 4 6]\n",
      " [3 7 1]]\n",
      "[[4 2 3]\n",
      " [8 4 7]\n",
      " [2 6 1]]\n",
      "[[84 52 70]\n",
      " [52 56 40]\n",
      " [70 40 59]]\n"
     ]
    }
   ],
   "source": [
    "mat = np.random.randint(1,10,(3,3))\n",
    "print(mat)\n",
    "transpose = np.transpose(mat)\n",
    "print(transpose)\n",
    "print(np.matmul(mat,transpose))"
   ]
  },
  {
   "cell_type": "code",
   "execution_count": 180,
   "metadata": {},
   "outputs": [
    {
     "name": "stdout",
     "output_type": "stream",
     "text": [
      "original matrix:\n",
      " [[8 8 1]\n",
      " [3 8 0]\n",
      " [4 8 1]]\n",
      "Transpose of a:\n",
      " [[8 3 4]\n",
      " [8 8 8]\n",
      " [1 0 1]]\n",
      "Multiplication:\n",
      " [[64 24  4]\n",
      " [24 64  0]\n",
      " [ 4  0  1]]\n"
     ]
    }
   ],
   "source": [
    "a = np.random.randint(10,size=(3,3)) \n",
    "print(\"original matrix:\\n\",a)\n",
    "print(\"Transpose of a:\\n\",a.T) \n",
    "print(\"Multiplication:\\n\",a*a.T)"
   ]
  },
  {
   "cell_type": "markdown",
   "metadata": {},
   "source": [
    "### 13. Find solution for given linear equstion:\n",
    "\n",
    "2x + 5*y = 28\n",
    "4*x + 3*y = 81\n",
    "\n",
    "Level: Hard"
   ]
  },
  {
   "cell_type": "code",
   "execution_count": null,
   "metadata": {},
   "outputs": [],
   "source": [
    "a = np.array([[2, 5], [4, 3]])  \n",
    "b = np.array([28, 81]) \n",
    "print(\"Solution of linear equations:\", np.linalg.solve(a, b))\n"
   ]
  },
  {
   "cell_type": "markdown",
   "metadata": {},
   "source": [
    "### 14. Find Rank, Trace, Inverse, Determinant of a given matrix.\n",
    "\n",
    "A=[[1, 1, 1], \n",
    "              [2, 2, 2], \n",
    "              [3, 3, 3]]) \n",
    "              \n",
    "Level: Hard"
   ]
  },
  {
   "cell_type": "code",
   "execution_count": 160,
   "metadata": {},
   "outputs": [
    {
     "name": "stdout",
     "output_type": "stream",
     "text": [
      "[[1 4 6]\n",
      " [9 2 8]\n",
      " [7 3 5]]\n",
      "Rank : 3\n",
      "Trace : 8\n",
      "108.00000000000003\n",
      "Inverse:\n",
      " [[-0.12962963 -0.01851852  0.18518519]\n",
      " [ 0.10185185 -0.34259259  0.42592593]\n",
      " [ 0.12037037  0.23148148 -0.31481481]]\n"
     ]
    }
   ],
   "source": [
    "arr=np.array([[1, 4, 6], [9, 2, 8], [7, 3, 5]])\n",
    "print(arr)\n",
    "rank = np.linalg.matrix_rank(arr)\n",
    "print(\"Rank :\",rank)\n",
    "trace = np.trace(arr)\n",
    "print(\"Trace :\",trace)\n",
    "det = np.linalg.det(arr)\n",
    "print(det)\n",
    "print(\"Inverse:\\n\", np.linalg.inv(arr))"
   ]
  },
  {
   "cell_type": "markdown",
   "metadata": {},
   "source": [
    "### 15. Find cube of a mtrix.\n",
    "\n",
    "Level: Hard"
   ]
  },
  {
   "cell_type": "code",
   "execution_count": 161,
   "metadata": {},
   "outputs": [
    {
     "data": {
      "text/plain": [
       "array([[ 825,  580, 1054],\n",
       "       [1429,  790, 1560],\n",
       "       [1147,  647, 1261]])"
      ]
     },
     "execution_count": 161,
     "metadata": {},
     "output_type": "execute_result"
    }
   ],
   "source": [
    "A = [[1, 4, 6], [9, 2, 8], [7, 3, 5]]\n",
    "\n",
    "np.linalg.matrix_power(A, 3)"
   ]
  }
 ],
 "metadata": {
  "kernelspec": {
   "display_name": "Python 3",
   "language": "python",
   "name": "python3"
  },
  "language_info": {
   "codemirror_mode": {
    "name": "ipython",
    "version": 3
   },
   "file_extension": ".py",
   "mimetype": "text/x-python",
   "name": "python",
   "nbconvert_exporter": "python",
   "pygments_lexer": "ipython3",
   "version": "3.6.7"
  }
 },
 "nbformat": 4,
 "nbformat_minor": 4
}
