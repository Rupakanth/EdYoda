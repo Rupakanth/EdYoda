{
 "cells": [
  {
   "cell_type": "markdown",
   "metadata": {},
   "source": [
    "## NumPy : Practice Problems 1\n",
    "Easy Questions : 7\n",
    "Moderate Questions : 7\n",
    "Hard Questions : 3\n",
    "<hr>\n"
   ]
  },
  {
   "cell_type": "markdown",
   "metadata": {},
   "source": [
    "### 1. Write a NumPy program to get the numpy version and show numpy build configuration.\n",
    "\n",
    "Level: Easy"
   ]
  },
  {
   "cell_type": "code",
   "execution_count": 1,
   "metadata": {},
   "outputs": [
    {
     "name": "stdout",
     "output_type": "stream",
     "text": [
      "1.15.4\n",
      "<module 'numpy.__config__' from 'c:\\\\python36\\\\lib\\\\site-packages\\\\numpy\\\\__config__.py'>\n"
     ]
    }
   ],
   "source": [
    "import numpy as np\n",
    "\n",
    "print(np.version.version)\n",
    "print(np.__config__)"
   ]
  },
  {
   "cell_type": "markdown",
   "metadata": {},
   "source": [
    "### 2. Create a null vector of size 10 but the fifth value which is 1.\n",
    "\n",
    "Level: Easy"
   ]
  },
  {
   "cell_type": "code",
   "execution_count": 2,
   "metadata": {},
   "outputs": [
    {
     "name": "stdout",
     "output_type": "stream",
     "text": [
      "[0. 0. 0. 0. 1. 0. 0. 0. 0. 0.]\n"
     ]
    }
   ],
   "source": [
    "ten_zeroes = np.zeros(10)\n",
    "ten_zeroes[4] = 1\n",
    "print(ten_zeroes)"
   ]
  },
  {
   "cell_type": "markdown",
   "metadata": {},
   "source": [
    "###  Create a vector with values ranging from 10 to 49.\n",
    "\n",
    "Level: Easy"
   ]
  },
  {
   "cell_type": "code",
   "execution_count": 4,
   "metadata": {},
   "outputs": [
    {
     "name": "stdout",
     "output_type": "stream",
     "text": [
      "[10 11 12 13 14 15 16 17 18 19 20 21 22 23 24 25 26 27 28 29 30 31 32 33\n",
      " 34 35 36 37 38 39 40 41 42 43 44 45 46 47 48 49]\n"
     ]
    }
   ],
   "source": [
    "ten_fortynine = np.arange(10,50)\n",
    "print(ten_fortynine)"
   ]
  },
  {
   "cell_type": "markdown",
   "metadata": {},
   "source": [
    "### 3. create two arrays and stack them vertically\n",
    "\n",
    "Level: Easy"
   ]
  },
  {
   "cell_type": "code",
   "execution_count": 5,
   "metadata": {},
   "outputs": [
    {
     "name": "stdout",
     "output_type": "stream",
     "text": [
      "[[ 59  18  26]\n",
      " [ 89  17  52]\n",
      " [ 39  42  72]\n",
      " [ 83  14  55]\n",
      " [173 129 167]\n",
      " [163 186 166]\n",
      " [111 111 165]\n",
      " [163 117 124]]\n"
     ]
    }
   ],
   "source": [
    "a = np.random.randint(10,100,(4,3))\n",
    "b = np.random.randint(110,200,(4,3))\n",
    "\n",
    "print(np.vstack([a,b]))"
   ]
  },
  {
   "cell_type": "markdown",
   "metadata": {},
   "source": [
    "### 4. Reverse a vector (first element becomes last).\n",
    "\n",
    "Level: Easy"
   ]
  },
  {
   "cell_type": "code",
   "execution_count": 9,
   "metadata": {},
   "outputs": [
    {
     "name": "stdout",
     "output_type": "stream",
     "text": [
      "[[29 37 83]\n",
      " [75 81 30]\n",
      " [48 49 87]\n",
      " [94 94 63]]\n",
      "[[94 94 63]\n",
      " [48 49 87]\n",
      " [75 81 30]\n",
      " [29 37 83]]\n"
     ]
    }
   ],
   "source": [
    "a = np.random.randint(10,100,(4,3))\n",
    "print(a)\n",
    "print(a[::-1])"
   ]
  },
  {
   "cell_type": "markdown",
   "metadata": {},
   "source": [
    "### 5. Create a 3x3 matrix with values ranging from 0 to 8 \n",
    "\n",
    "Level: Easy"
   ]
  },
  {
   "cell_type": "code",
   "execution_count": 11,
   "metadata": {},
   "outputs": [
    {
     "data": {
      "text/plain": [
       "array([[1, 1, 3],\n",
       "       [6, 5, 1],\n",
       "       [5, 2, 1]])"
      ]
     },
     "execution_count": 11,
     "metadata": {},
     "output_type": "execute_result"
    }
   ],
   "source": [
    "a = np.random.randint(0,8,(3,3))\n",
    "a"
   ]
  },
  {
   "cell_type": "markdown",
   "metadata": {},
   "source": [
    "### 6. Find indices of non-zero elements from [1,2,0,0,4,0]\n",
    "\n",
    "Level: Easy"
   ]
  },
  {
   "cell_type": "code",
   "execution_count": 14,
   "metadata": {},
   "outputs": [
    {
     "name": "stdout",
     "output_type": "stream",
     "text": [
      "0\n",
      "1\n",
      "4\n",
      "6\n"
     ]
    }
   ],
   "source": [
    "a = [1,2,0,0,4,0,2]\n",
    "for value in range(0,len(a)):\n",
    "    if a[value] != 0:\n",
    "        print (value )"
   ]
  },
  {
   "cell_type": "markdown",
   "metadata": {},
   "source": [
    "### 7. Create a 10x10 array with random values and find the minimum and maximum values.\n",
    "\n",
    "Level: Easy"
   ]
  },
  {
   "cell_type": "code",
   "execution_count": 39,
   "metadata": {},
   "outputs": [
    {
     "name": "stdout",
     "output_type": "stream",
     "text": [
      "[[ 32 589 239 542 256 785 725 178 314 722]\n",
      " [ 11 600 958  42 660 898 287 558 557 119]\n",
      " [973 970 344 566 178 526 603 546 433 640]\n",
      " [611 719 544 784 240 488 892 972 750  65]\n",
      " [467 299 460  59 632  11  41 709 107 523]\n",
      " [285 281 900 147  41 247 944 265 184 599]\n",
      " [304 817 310 707 788 667 196 860 673 571]\n",
      " [253 255 115  17  66 274 569 946 909 564]\n",
      " [132  72 969 101 576 467 275 691 534 283]\n",
      " [203  24 550 432 735 684 863  77 935 352]]\n",
      "973 11\n"
     ]
    }
   ],
   "source": [
    "a = np.random.randint(1,1000,(10,10))\n",
    "print(a)\n",
    "minimum = min(a[0])\n",
    "maximum = max(a[0])\n",
    "for value in range(0,len(a)):\n",
    "      \n",
    "    if maximum < max(a[value]):\n",
    "        maximum =  max(a[value])\n",
    "    if minimum > min(a[value]):\n",
    "        minimum = min(a[value])\n",
    "print(maximum,minimum)\n",
    "\n"
   ]
  },
  {
   "cell_type": "markdown",
   "metadata": {},
   "source": [
    "### 8. Create a random vector of size 30 and find the mean value.\n",
    "\n",
    "Level: Medium"
   ]
  },
  {
   "cell_type": "code",
   "execution_count": 46,
   "metadata": {},
   "outputs": [
    {
     "name": "stdout",
     "output_type": "stream",
     "text": [
      "[38 78 16 78 84 38  2 89 78 32 58 68 84 58 63 47 63 15  8 92 66 20 86 75\n",
      " 25 93 77  3 40 78]\n",
      "55.06666666666667\n"
     ]
    }
   ],
   "source": [
    "a = np.random.randint(1,100,30)\n",
    "print(a)\n",
    "print(sum(a)/len(a))"
   ]
  },
  {
   "cell_type": "markdown",
   "metadata": {},
   "source": [
    "### 9. Create a 2d array with 1 on the border and 0 inside\n",
    "Level: Medium"
   ]
  },
  {
   "cell_type": "code",
   "execution_count": 3,
   "metadata": {},
   "outputs": [
    {
     "name": "stdout",
     "output_type": "stream",
     "text": [
      "[[1. 1. 1. 1. 1. 1. 1. 1. 1. 1.]\n",
      " [1. 0. 0. 0. 0. 0. 0. 0. 0. 1.]\n",
      " [1. 0. 0. 0. 0. 0. 0. 0. 0. 1.]\n",
      " [1. 0. 0. 0. 0. 0. 0. 0. 0. 1.]\n",
      " [1. 0. 0. 0. 0. 0. 0. 0. 0. 1.]\n",
      " [1. 0. 0. 0. 0. 0. 0. 0. 0. 1.]\n",
      " [1. 0. 0. 0. 0. 0. 0. 0. 0. 1.]\n",
      " [1. 0. 0. 0. 0. 0. 0. 0. 0. 1.]\n",
      " [1. 0. 0. 0. 0. 0. 0. 0. 0. 1.]\n",
      " [1. 1. 1. 1. 1. 1. 1. 1. 1. 1.]]\n"
     ]
    }
   ],
   "source": [
    "oneborder = np.ones((10,10))\n",
    "oneborder[1:-1, 1:-1] = 0\n",
    "print(oneborder)"
   ]
  },
  {
   "cell_type": "markdown",
   "metadata": {},
   "source": [
    "### 10. How to add a border (filled with 0's) around an existing array\n",
    "\n",
    "Level: Medium"
   ]
  },
  {
   "cell_type": "code",
   "execution_count": 50,
   "metadata": {},
   "outputs": [
    {
     "name": "stdout",
     "output_type": "stream",
     "text": [
      "[[  0.   0.   0.   0.   0.   0.   0.   0.   0.   0.]\n",
      " [  0. 396. 396. 396. 396. 396. 396. 396. 396.   0.]\n",
      " [  0. 396. 396. 396. 396. 396. 396. 396. 396.   0.]\n",
      " [  0. 396. 396. 396. 396. 396. 396. 396. 396.   0.]\n",
      " [  0. 396. 396. 396. 396. 396. 396. 396. 396.   0.]\n",
      " [  0. 396. 396. 396. 396. 396. 396. 396. 396.   0.]\n",
      " [  0. 396. 396. 396. 396. 396. 396. 396. 396.   0.]\n",
      " [  0. 396. 396. 396. 396. 396. 396. 396. 396.   0.]\n",
      " [  0. 396. 396. 396. 396. 396. 396. 396. 396.   0.]\n",
      " [  0.   0.   0.   0.   0.   0.   0.   0.   0.   0.]]\n"
     ]
    }
   ],
   "source": [
    "zeroborder = np.zeros((10,10))\n",
    "zeroborder[1:-1,1:-1] = np.random.randint(1,1000)\n",
    "print(zeroborder)"
   ]
  },
  {
   "cell_type": "markdown",
   "metadata": {},
   "source": [
    "### 11. Create a 5x5 matrix with values 1,2,3,4 just below the diagonal\n",
    "Sample Output:\n",
    "    \n",
    "[[ 0.  0.  0.  0.  0.]\n",
    " [ 1.  0.  0.  0.  0.]\n",
    " [ 0.  2.  0.  0.  0.]\n",
    " [ 0.  0.  3.  0.  0.]\n",
    " [ 0.  0.  0.  4.  0.]]\n",
    " \n",
    " Level: Medium"
   ]
  },
  {
   "cell_type": "code",
   "execution_count": 61,
   "metadata": {},
   "outputs": [
    {
     "name": "stdout",
     "output_type": "stream",
     "text": [
      "[[0. 0. 0. 0. 0.]\n",
      " [1. 0. 0. 0. 0.]\n",
      " [0. 2. 0. 0. 0.]\n",
      " [0. 0. 3. 0. 0.]\n",
      " [0. 0. 0. 4. 0.]]\n"
     ]
    }
   ],
   "source": [
    "a = np.zeros((5,5))\n",
    "for i in range(1,len(a)):\n",
    "    for j in range(0,len(a[i])):\n",
    "        if j == i-1:\n",
    "            a[i][j] = i\n",
    "print(a)"
   ]
  },
  {
   "cell_type": "markdown",
   "metadata": {},
   "source": [
    "### 12. Create a 5*5 matrix with random values and normalize it.\n",
    "Level: Medium"
   ]
  },
  {
   "cell_type": "code",
   "execution_count": 62,
   "metadata": {},
   "outputs": [
    {
     "name": "stdout",
     "output_type": "stream",
     "text": [
      "[[5 8 4 5 2]\n",
      " [5 9 1 1 8]\n",
      " [6 3 3 7 1]\n",
      " [3 1 2 9 9]\n",
      " [6 3 1 1 9]]\n",
      "[[0.625 1.    0.5   0.625 0.25 ]\n",
      " [0.625 1.125 0.125 0.125 1.   ]\n",
      " [0.75  0.375 0.375 0.875 0.125]\n",
      " [0.375 0.125 0.25  1.125 1.125]\n",
      " [0.75  0.375 0.125 0.125 1.125]]\n"
     ]
    }
   ],
   "source": [
    "m = np.random.randint(1,10,(5,5))\n",
    "normalized = (m )/(np.max(m)-np.min(m))\n",
    "print(m)\n",
    "print(normalized)"
   ]
  },
  {
   "cell_type": "markdown",
   "metadata": {},
   "source": [
    "### 13. How to find common values between two arrays\n",
    "Level: Medium"
   ]
  },
  {
   "cell_type": "code",
   "execution_count": 63,
   "metadata": {},
   "outputs": [
    {
     "name": "stdout",
     "output_type": "stream",
     "text": [
      "[[ 6 49 13 12]\n",
      " [34  7 35 26]\n",
      " [ 7 24 30 30]\n",
      " [ 7  7  5 28]]\n",
      "[[36 48 23 38]\n",
      " [29 19 19 36]\n",
      " [49 18  5  7]\n",
      " [ 9 28 24 13]]\n",
      "{5, 7, 13, 49, 24, 28}\n"
     ]
    }
   ],
   "source": [
    "a = np.random.randint(1,50,(4,4))\n",
    "b = np.random.randint(1,50,(4,4))\n",
    "print(a)\n",
    "print(b)\n",
    "list_a = []\n",
    "list_b = []\n",
    "for i in range(len(a)):\n",
    "    for j in range(len(a[i])):\n",
    "        list_a.append(a[i][j])\n",
    "for i in range(len(b)):\n",
    "    for j in range(len(b[i])):\n",
    "        list_b.append(b[i][j])\n",
    "set_a = set(list_a)\n",
    "set_b = set(list_b)\n",
    "print(set_a.intersection(set_b))"
   ]
  },
  {
   "cell_type": "code",
   "execution_count": 64,
   "metadata": {},
   "outputs": [
    {
     "name": "stdout",
     "output_type": "stream",
     "text": [
      "[[1 8 4 8]\n",
      " [9 6 6 8]\n",
      " [3 6 8 9]\n",
      " [4 4 9 3]]\n",
      "[[6 4 8 9]\n",
      " [2 5 6 5]\n",
      " [3 6 8 8]\n",
      " [6 8 7 5]]\n",
      "[3 4 6 8 9]\n"
     ]
    }
   ],
   "source": [
    "a=np.random.randint(1,10,(4,4))\n",
    "b=np.random.randint(1,10,(4,4))\n",
    "print(a)\n",
    "print(b)\n",
    "print(np.intersect1d(a,b))"
   ]
  },
  {
   "cell_type": "markdown",
   "metadata": {},
   "source": [
    "### 14. Consider a generator function that generates 10 integers and use it to build an array\n",
    "Level: Medium"
   ]
  },
  {
   "cell_type": "code",
   "execution_count": 65,
   "metadata": {},
   "outputs": [
    {
     "name": "stdout",
     "output_type": "stream",
     "text": [
      "[ 1.  2.  3.  4.  5.  6.  7.  8.  9. 10.]\n"
     ]
    }
   ],
   "source": [
    "def generator():\n",
    "    for num in range(1,11):\n",
    "        yield num\n",
    "a=np.fromiter(generator(),dtype=float)\n",
    "print(a)"
   ]
  },
  {
   "cell_type": "markdown",
   "metadata": {},
   "source": [
    "### 15. Subtract the mean of each row of a matrix\n",
    "Level: Hard"
   ]
  },
  {
   "cell_type": "code",
   "execution_count": null,
   "metadata": {},
   "outputs": [],
   "source": []
  },
  {
   "cell_type": "markdown",
   "metadata": {},
   "source": [
    "### 16. Considering two arrays with shape (1,3) and (3,1), how to compute their sum using an iterator? \n",
    "Level: Hard"
   ]
  },
  {
   "cell_type": "markdown",
   "metadata": {},
   "source": [
    "### 17. Write a NumPy program to create a vector of length 10 with values evenly distributed between 5 and 50.\n",
    "Level: Hard"
   ]
  },
  {
   "cell_type": "code",
   "execution_count": 66,
   "metadata": {},
   "outputs": [
    {
     "name": "stdout",
     "output_type": "stream",
     "text": [
      "[ 5. 10. 15. 20. 25. 30. 35. 40. 45. 50.]\n"
     ]
    }
   ],
   "source": [
    "def generator():\n",
    "    for i in range(5,51,5):\n",
    "        yield i\n",
    "arr=np.fromiter(generator(),dtype=float)\n",
    "print(arr)"
   ]
  }
 ],
 "metadata": {
  "kernelspec": {
   "display_name": "Python 3",
   "language": "python",
   "name": "python3"
  },
  "language_info": {
   "codemirror_mode": {
    "name": "ipython",
    "version": 3
   },
   "file_extension": ".py",
   "mimetype": "text/x-python",
   "name": "python",
   "nbconvert_exporter": "python",
   "pygments_lexer": "ipython3",
   "version": "3.6.7"
  }
 },
 "nbformat": 4,
 "nbformat_minor": 4
}
