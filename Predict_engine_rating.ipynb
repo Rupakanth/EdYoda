{
 "cells": [
  {
   "cell_type": "markdown",
   "metadata": {},
   "source": [
    "# Predict engine Rating"
   ]
  },
  {
   "cell_type": "markdown",
   "metadata": {},
   "source": [
    "### Importing libraries"
   ]
  },
  {
   "cell_type": "code",
   "execution_count": 2,
   "metadata": {},
   "outputs": [],
   "source": [
    "import pandas as pd              # VERSION  1.0.5\n",
    "import numpy as np               # VERSION  1.18.5 \n",
    "import matplotlib.pyplot as plt  # VERSION  3.2.2\n",
    "import seaborn as sns            # VERSION  0.10.1\n",
    "from scipy.stats import norm     # VERSION  1.5.0\n",
    "\n",
    "from imblearn.pipeline import make_pipeline             # VERSION  0.7.0\n",
    "from imblearn.over_sampling import RandomOverSampler\n",
    "\n",
    "from sklearn.model_selection import train_test_split   # VERSION  0.23.1\n",
    "from sklearn.preprocessing import OneHotEncoder \n",
    "from sklearn.tree import DecisionTreeClassifier\n",
    "from sklearn.metrics import confusion_matrix, classification_report\n",
    "from sklearn.neighbors import KNeighborsClassifier\n",
    "from sklearn.linear_model import LogisticRegression\n",
    "from sklearn.preprocessing import StandardScaler, OrdinalEncoder\n",
    "from sklearn.compose import make_column_transformer\n",
    "\n",
    "import warnings\n",
    "warnings.filterwarnings('ignore')\n",
    "\n",
    "from joblib import dump      # VERSION  0.16.0"
   ]
  },
  {
   "cell_type": "code",
   "execution_count": 3,
   "metadata": {},
   "outputs": [
    {
     "name": "stdout",
     "output_type": "stream",
     "text": [
      "Shape of the data: (26307, 73)\n"
     ]
    }
   ],
   "source": [
    "data = pd.read_excel('data.xlsx', 'data')\n",
    "print('Shape of the data:', data.shape)\n",
    "\n",
    "data1 = data.copy() # saving the copy of the original data"
   ]
  },
  {
   "cell_type": "code",
   "execution_count": 4,
   "metadata": {},
   "outputs": [
    {
     "data": {
      "text/html": [
       "<div>\n",
       "<style scoped>\n",
       "    .dataframe tbody tr th:only-of-type {\n",
       "        vertical-align: middle;\n",
       "    }\n",
       "\n",
       "    .dataframe tbody tr th {\n",
       "        vertical-align: top;\n",
       "    }\n",
       "\n",
       "    .dataframe thead th {\n",
       "        text-align: right;\n",
       "    }\n",
       "</style>\n",
       "<table border=\"1\" class=\"dataframe\">\n",
       "  <thead>\n",
       "    <tr style=\"text-align: right;\">\n",
       "      <th></th>\n",
       "      <th>appointmentId</th>\n",
       "      <th>inspectionStartTime</th>\n",
       "      <th>year</th>\n",
       "      <th>month</th>\n",
       "      <th>engineTransmission_battery_value</th>\n",
       "      <th>engineTransmission_battery_cc_value_0</th>\n",
       "      <th>engineTransmission_battery_cc_value_1</th>\n",
       "      <th>engineTransmission_battery_cc_value_2</th>\n",
       "      <th>engineTransmission_battery_cc_value_3</th>\n",
       "      <th>engineTransmission_battery_cc_value_4</th>\n",
       "      <th>...</th>\n",
       "      <th>engineTransmission_gearShifting_cc_value_1</th>\n",
       "      <th>engineTransmission_gearShifting_cc_value_2</th>\n",
       "      <th>engineTransmission_comments_value_0</th>\n",
       "      <th>engineTransmission_comments_value_1</th>\n",
       "      <th>engineTransmission_comments_value_2</th>\n",
       "      <th>engineTransmission_comments_value_3</th>\n",
       "      <th>engineTransmission_comments_value_4</th>\n",
       "      <th>fuel_type</th>\n",
       "      <th>odometer_reading</th>\n",
       "      <th>rating_engineTransmission</th>\n",
       "    </tr>\n",
       "  </thead>\n",
       "  <tbody>\n",
       "    <tr>\n",
       "      <th>0</th>\n",
       "      <td>aj_01</td>\n",
       "      <td>2019-02-03 15:43:48</td>\n",
       "      <td>2008</td>\n",
       "      <td>8</td>\n",
       "      <td>No</td>\n",
       "      <td>Weak</td>\n",
       "      <td>NaN</td>\n",
       "      <td>NaN</td>\n",
       "      <td>NaN</td>\n",
       "      <td>NaN</td>\n",
       "      <td>...</td>\n",
       "      <td>NaN</td>\n",
       "      <td>NaN</td>\n",
       "      <td>Pickup Low</td>\n",
       "      <td>Starter Motor / Solenoid malfunctioning</td>\n",
       "      <td>NaN</td>\n",
       "      <td>NaN</td>\n",
       "      <td>NaN</td>\n",
       "      <td>Petrol + CNG</td>\n",
       "      <td>124600</td>\n",
       "      <td>3.0</td>\n",
       "    </tr>\n",
       "    <tr>\n",
       "      <th>1</th>\n",
       "      <td>aj_02</td>\n",
       "      <td>2019-01-16 13:02:12</td>\n",
       "      <td>2007</td>\n",
       "      <td>5</td>\n",
       "      <td>Yes</td>\n",
       "      <td>NaN</td>\n",
       "      <td>NaN</td>\n",
       "      <td>NaN</td>\n",
       "      <td>NaN</td>\n",
       "      <td>NaN</td>\n",
       "      <td>...</td>\n",
       "      <td>NaN</td>\n",
       "      <td>NaN</td>\n",
       "      <td>NaN</td>\n",
       "      <td>NaN</td>\n",
       "      <td>NaN</td>\n",
       "      <td>NaN</td>\n",
       "      <td>NaN</td>\n",
       "      <td>Petrol + CNG</td>\n",
       "      <td>78108</td>\n",
       "      <td>4.0</td>\n",
       "    </tr>\n",
       "    <tr>\n",
       "      <th>2</th>\n",
       "      <td>aj_03</td>\n",
       "      <td>2019-02-09 13:31:04</td>\n",
       "      <td>2012</td>\n",
       "      <td>5</td>\n",
       "      <td>Yes</td>\n",
       "      <td>NaN</td>\n",
       "      <td>NaN</td>\n",
       "      <td>NaN</td>\n",
       "      <td>NaN</td>\n",
       "      <td>NaN</td>\n",
       "      <td>...</td>\n",
       "      <td>NaN</td>\n",
       "      <td>NaN</td>\n",
       "      <td>NaN</td>\n",
       "      <td>NaN</td>\n",
       "      <td>NaN</td>\n",
       "      <td>NaN</td>\n",
       "      <td>NaN</td>\n",
       "      <td>Diesel</td>\n",
       "      <td>93348</td>\n",
       "      <td>3.5</td>\n",
       "    </tr>\n",
       "    <tr>\n",
       "      <th>3</th>\n",
       "      <td>aj_04</td>\n",
       "      <td>2019-01-18 11:02:53</td>\n",
       "      <td>2013</td>\n",
       "      <td>1</td>\n",
       "      <td>Yes</td>\n",
       "      <td>NaN</td>\n",
       "      <td>NaN</td>\n",
       "      <td>NaN</td>\n",
       "      <td>NaN</td>\n",
       "      <td>NaN</td>\n",
       "      <td>...</td>\n",
       "      <td>NaN</td>\n",
       "      <td>NaN</td>\n",
       "      <td>NaN</td>\n",
       "      <td>NaN</td>\n",
       "      <td>NaN</td>\n",
       "      <td>NaN</td>\n",
       "      <td>NaN</td>\n",
       "      <td>Petrol + CNG</td>\n",
       "      <td>48233</td>\n",
       "      <td>3.5</td>\n",
       "    </tr>\n",
       "    <tr>\n",
       "      <th>4</th>\n",
       "      <td>aj_05</td>\n",
       "      <td>2019-01-27 12:12:06</td>\n",
       "      <td>2011</td>\n",
       "      <td>7</td>\n",
       "      <td>Yes</td>\n",
       "      <td>NaN</td>\n",
       "      <td>NaN</td>\n",
       "      <td>NaN</td>\n",
       "      <td>NaN</td>\n",
       "      <td>NaN</td>\n",
       "      <td>...</td>\n",
       "      <td>NaN</td>\n",
       "      <td>NaN</td>\n",
       "      <td>NaN</td>\n",
       "      <td>NaN</td>\n",
       "      <td>NaN</td>\n",
       "      <td>NaN</td>\n",
       "      <td>NaN</td>\n",
       "      <td>Petrol + CNG</td>\n",
       "      <td>74368</td>\n",
       "      <td>4.0</td>\n",
       "    </tr>\n",
       "  </tbody>\n",
       "</table>\n",
       "<p>5 rows × 73 columns</p>\n",
       "</div>"
      ],
      "text/plain": [
       "  appointmentId inspectionStartTime  year  month  \\\n",
       "0         aj_01 2019-02-03 15:43:48  2008      8   \n",
       "1         aj_02 2019-01-16 13:02:12  2007      5   \n",
       "2         aj_03 2019-02-09 13:31:04  2012      5   \n",
       "3         aj_04 2019-01-18 11:02:53  2013      1   \n",
       "4         aj_05 2019-01-27 12:12:06  2011      7   \n",
       "\n",
       "  engineTransmission_battery_value engineTransmission_battery_cc_value_0  \\\n",
       "0                               No                                  Weak   \n",
       "1                              Yes                                   NaN   \n",
       "2                              Yes                                   NaN   \n",
       "3                              Yes                                   NaN   \n",
       "4                              Yes                                   NaN   \n",
       "\n",
       "  engineTransmission_battery_cc_value_1 engineTransmission_battery_cc_value_2  \\\n",
       "0                                   NaN                                   NaN   \n",
       "1                                   NaN                                   NaN   \n",
       "2                                   NaN                                   NaN   \n",
       "3                                   NaN                                   NaN   \n",
       "4                                   NaN                                   NaN   \n",
       "\n",
       "  engineTransmission_battery_cc_value_3 engineTransmission_battery_cc_value_4  \\\n",
       "0                                   NaN                                   NaN   \n",
       "1                                   NaN                                   NaN   \n",
       "2                                   NaN                                   NaN   \n",
       "3                                   NaN                                   NaN   \n",
       "4                                   NaN                                   NaN   \n",
       "\n",
       "   ... engineTransmission_gearShifting_cc_value_1  \\\n",
       "0  ...                                        NaN   \n",
       "1  ...                                        NaN   \n",
       "2  ...                                        NaN   \n",
       "3  ...                                        NaN   \n",
       "4  ...                                        NaN   \n",
       "\n",
       "  engineTransmission_gearShifting_cc_value_2  \\\n",
       "0                                        NaN   \n",
       "1                                        NaN   \n",
       "2                                        NaN   \n",
       "3                                        NaN   \n",
       "4                                        NaN   \n",
       "\n",
       "  engineTransmission_comments_value_0  \\\n",
       "0                          Pickup Low   \n",
       "1                                 NaN   \n",
       "2                                 NaN   \n",
       "3                                 NaN   \n",
       "4                                 NaN   \n",
       "\n",
       "       engineTransmission_comments_value_1  \\\n",
       "0  Starter Motor / Solenoid malfunctioning   \n",
       "1                                      NaN   \n",
       "2                                      NaN   \n",
       "3                                      NaN   \n",
       "4                                      NaN   \n",
       "\n",
       "  engineTransmission_comments_value_2 engineTransmission_comments_value_3  \\\n",
       "0                                 NaN                                 NaN   \n",
       "1                                 NaN                                 NaN   \n",
       "2                                 NaN                                 NaN   \n",
       "3                                 NaN                                 NaN   \n",
       "4                                 NaN                                 NaN   \n",
       "\n",
       "  engineTransmission_comments_value_4     fuel_type odometer_reading  \\\n",
       "0                                 NaN  Petrol + CNG           124600   \n",
       "1                                 NaN  Petrol + CNG            78108   \n",
       "2                                 NaN        Diesel            93348   \n",
       "3                                 NaN  Petrol + CNG            48233   \n",
       "4                                 NaN  Petrol + CNG            74368   \n",
       "\n",
       "  rating_engineTransmission  \n",
       "0                       3.0  \n",
       "1                       4.0  \n",
       "2                       3.5  \n",
       "3                       3.5  \n",
       "4                       4.0  \n",
       "\n",
       "[5 rows x 73 columns]"
      ]
     },
     "execution_count": 4,
     "metadata": {},
     "output_type": "execute_result"
    }
   ],
   "source": [
    "data.head()"
   ]
  },
  {
   "cell_type": "code",
   "execution_count": 5,
   "metadata": {},
   "outputs": [
    {
     "data": {
      "text/html": [
       "<div>\n",
       "<style scoped>\n",
       "    .dataframe tbody tr th:only-of-type {\n",
       "        vertical-align: middle;\n",
       "    }\n",
       "\n",
       "    .dataframe tbody tr th {\n",
       "        vertical-align: top;\n",
       "    }\n",
       "\n",
       "    .dataframe thead th {\n",
       "        text-align: right;\n",
       "    }\n",
       "</style>\n",
       "<table border=\"1\" class=\"dataframe\">\n",
       "  <thead>\n",
       "    <tr style=\"text-align: right;\">\n",
       "      <th></th>\n",
       "      <th>appointmentId</th>\n",
       "      <th>inspectionStartTime</th>\n",
       "      <th>year</th>\n",
       "      <th>month</th>\n",
       "      <th>engineTransmission_battery_value</th>\n",
       "      <th>engineTransmission_battery_cc_value_0</th>\n",
       "      <th>engineTransmission_battery_cc_value_1</th>\n",
       "      <th>engineTransmission_battery_cc_value_2</th>\n",
       "      <th>engineTransmission_battery_cc_value_3</th>\n",
       "      <th>engineTransmission_battery_cc_value_4</th>\n",
       "      <th>...</th>\n",
       "      <th>engineTransmission_gearShifting_cc_value_1</th>\n",
       "      <th>engineTransmission_gearShifting_cc_value_2</th>\n",
       "      <th>engineTransmission_comments_value_0</th>\n",
       "      <th>engineTransmission_comments_value_1</th>\n",
       "      <th>engineTransmission_comments_value_2</th>\n",
       "      <th>engineTransmission_comments_value_3</th>\n",
       "      <th>engineTransmission_comments_value_4</th>\n",
       "      <th>fuel_type</th>\n",
       "      <th>odometer_reading</th>\n",
       "      <th>rating_engineTransmission</th>\n",
       "    </tr>\n",
       "  </thead>\n",
       "  <tbody>\n",
       "    <tr>\n",
       "      <th>26302</th>\n",
       "      <td>aj_26303</td>\n",
       "      <td>2019-03-10 13:08:03</td>\n",
       "      <td>2013</td>\n",
       "      <td>3</td>\n",
       "      <td>Yes</td>\n",
       "      <td>NaN</td>\n",
       "      <td>NaN</td>\n",
       "      <td>NaN</td>\n",
       "      <td>NaN</td>\n",
       "      <td>NaN</td>\n",
       "      <td>...</td>\n",
       "      <td>NaN</td>\n",
       "      <td>NaN</td>\n",
       "      <td>Electrical wiring Damaged</td>\n",
       "      <td>NaN</td>\n",
       "      <td>NaN</td>\n",
       "      <td>NaN</td>\n",
       "      <td>NaN</td>\n",
       "      <td>Petrol + CNG</td>\n",
       "      <td>64532</td>\n",
       "      <td>4.0</td>\n",
       "    </tr>\n",
       "    <tr>\n",
       "      <th>26303</th>\n",
       "      <td>aj_26304</td>\n",
       "      <td>2019-04-12 13:59:02</td>\n",
       "      <td>2007</td>\n",
       "      <td>8</td>\n",
       "      <td>No</td>\n",
       "      <td>Weak</td>\n",
       "      <td>NaN</td>\n",
       "      <td>NaN</td>\n",
       "      <td>NaN</td>\n",
       "      <td>NaN</td>\n",
       "      <td>...</td>\n",
       "      <td>NaN</td>\n",
       "      <td>NaN</td>\n",
       "      <td>NaN</td>\n",
       "      <td>NaN</td>\n",
       "      <td>NaN</td>\n",
       "      <td>NaN</td>\n",
       "      <td>NaN</td>\n",
       "      <td>Petrol</td>\n",
       "      <td>88051</td>\n",
       "      <td>4.0</td>\n",
       "    </tr>\n",
       "    <tr>\n",
       "      <th>26304</th>\n",
       "      <td>aj_26305</td>\n",
       "      <td>2019-02-28 10:42:53</td>\n",
       "      <td>2004</td>\n",
       "      <td>7</td>\n",
       "      <td>Yes</td>\n",
       "      <td>NaN</td>\n",
       "      <td>NaN</td>\n",
       "      <td>NaN</td>\n",
       "      <td>NaN</td>\n",
       "      <td>NaN</td>\n",
       "      <td>...</td>\n",
       "      <td>NaN</td>\n",
       "      <td>NaN</td>\n",
       "      <td>NaN</td>\n",
       "      <td>NaN</td>\n",
       "      <td>NaN</td>\n",
       "      <td>NaN</td>\n",
       "      <td>NaN</td>\n",
       "      <td>Petrol</td>\n",
       "      <td>22656</td>\n",
       "      <td>3.5</td>\n",
       "    </tr>\n",
       "    <tr>\n",
       "      <th>26305</th>\n",
       "      <td>aj_26306</td>\n",
       "      <td>2019-04-02 12:21:19</td>\n",
       "      <td>2010</td>\n",
       "      <td>12</td>\n",
       "      <td>Yes</td>\n",
       "      <td>NaN</td>\n",
       "      <td>NaN</td>\n",
       "      <td>NaN</td>\n",
       "      <td>NaN</td>\n",
       "      <td>NaN</td>\n",
       "      <td>...</td>\n",
       "      <td>NaN</td>\n",
       "      <td>NaN</td>\n",
       "      <td>NaN</td>\n",
       "      <td>NaN</td>\n",
       "      <td>NaN</td>\n",
       "      <td>NaN</td>\n",
       "      <td>NaN</td>\n",
       "      <td>Diesel</td>\n",
       "      <td>126015</td>\n",
       "      <td>4.5</td>\n",
       "    </tr>\n",
       "    <tr>\n",
       "      <th>26306</th>\n",
       "      <td>aj_26307</td>\n",
       "      <td>2019-04-06 13:09:51</td>\n",
       "      <td>2015</td>\n",
       "      <td>11</td>\n",
       "      <td>Yes</td>\n",
       "      <td>NaN</td>\n",
       "      <td>NaN</td>\n",
       "      <td>NaN</td>\n",
       "      <td>NaN</td>\n",
       "      <td>NaN</td>\n",
       "      <td>...</td>\n",
       "      <td>NaN</td>\n",
       "      <td>NaN</td>\n",
       "      <td>NaN</td>\n",
       "      <td>NaN</td>\n",
       "      <td>NaN</td>\n",
       "      <td>NaN</td>\n",
       "      <td>NaN</td>\n",
       "      <td>Petrol</td>\n",
       "      <td>23983</td>\n",
       "      <td>4.5</td>\n",
       "    </tr>\n",
       "  </tbody>\n",
       "</table>\n",
       "<p>5 rows × 73 columns</p>\n",
       "</div>"
      ],
      "text/plain": [
       "      appointmentId inspectionStartTime  year  month  \\\n",
       "26302      aj_26303 2019-03-10 13:08:03  2013      3   \n",
       "26303      aj_26304 2019-04-12 13:59:02  2007      8   \n",
       "26304      aj_26305 2019-02-28 10:42:53  2004      7   \n",
       "26305      aj_26306 2019-04-02 12:21:19  2010     12   \n",
       "26306      aj_26307 2019-04-06 13:09:51  2015     11   \n",
       "\n",
       "      engineTransmission_battery_value engineTransmission_battery_cc_value_0  \\\n",
       "26302                              Yes                                   NaN   \n",
       "26303                               No                                  Weak   \n",
       "26304                              Yes                                   NaN   \n",
       "26305                              Yes                                   NaN   \n",
       "26306                              Yes                                   NaN   \n",
       "\n",
       "      engineTransmission_battery_cc_value_1  \\\n",
       "26302                                   NaN   \n",
       "26303                                   NaN   \n",
       "26304                                   NaN   \n",
       "26305                                   NaN   \n",
       "26306                                   NaN   \n",
       "\n",
       "      engineTransmission_battery_cc_value_2  \\\n",
       "26302                                   NaN   \n",
       "26303                                   NaN   \n",
       "26304                                   NaN   \n",
       "26305                                   NaN   \n",
       "26306                                   NaN   \n",
       "\n",
       "      engineTransmission_battery_cc_value_3  \\\n",
       "26302                                   NaN   \n",
       "26303                                   NaN   \n",
       "26304                                   NaN   \n",
       "26305                                   NaN   \n",
       "26306                                   NaN   \n",
       "\n",
       "      engineTransmission_battery_cc_value_4  ...  \\\n",
       "26302                                   NaN  ...   \n",
       "26303                                   NaN  ...   \n",
       "26304                                   NaN  ...   \n",
       "26305                                   NaN  ...   \n",
       "26306                                   NaN  ...   \n",
       "\n",
       "      engineTransmission_gearShifting_cc_value_1  \\\n",
       "26302                                        NaN   \n",
       "26303                                        NaN   \n",
       "26304                                        NaN   \n",
       "26305                                        NaN   \n",
       "26306                                        NaN   \n",
       "\n",
       "      engineTransmission_gearShifting_cc_value_2  \\\n",
       "26302                                        NaN   \n",
       "26303                                        NaN   \n",
       "26304                                        NaN   \n",
       "26305                                        NaN   \n",
       "26306                                        NaN   \n",
       "\n",
       "      engineTransmission_comments_value_0 engineTransmission_comments_value_1  \\\n",
       "26302           Electrical wiring Damaged                                 NaN   \n",
       "26303                                 NaN                                 NaN   \n",
       "26304                                 NaN                                 NaN   \n",
       "26305                                 NaN                                 NaN   \n",
       "26306                                 NaN                                 NaN   \n",
       "\n",
       "      engineTransmission_comments_value_2 engineTransmission_comments_value_3  \\\n",
       "26302                                 NaN                                 NaN   \n",
       "26303                                 NaN                                 NaN   \n",
       "26304                                 NaN                                 NaN   \n",
       "26305                                 NaN                                 NaN   \n",
       "26306                                 NaN                                 NaN   \n",
       "\n",
       "      engineTransmission_comments_value_4     fuel_type odometer_reading  \\\n",
       "26302                                 NaN  Petrol + CNG            64532   \n",
       "26303                                 NaN        Petrol            88051   \n",
       "26304                                 NaN        Petrol            22656   \n",
       "26305                                 NaN        Diesel           126015   \n",
       "26306                                 NaN        Petrol            23983   \n",
       "\n",
       "      rating_engineTransmission  \n",
       "26302                       4.0  \n",
       "26303                       4.0  \n",
       "26304                       3.5  \n",
       "26305                       4.5  \n",
       "26306                       4.5  \n",
       "\n",
       "[5 rows x 73 columns]"
      ]
     },
     "execution_count": 5,
     "metadata": {},
     "output_type": "execute_result"
    }
   ],
   "source": [
    "data.tail()"
   ]
  },
  {
   "cell_type": "markdown",
   "metadata": {},
   "source": [
    "appointmentId is just a serial number given to the data"
   ]
  },
  {
   "cell_type": "code",
   "execution_count": 6,
   "metadata": {},
   "outputs": [],
   "source": [
    "data = data.drop(columns = 'appointmentId')"
   ]
  },
  {
   "cell_type": "markdown",
   "metadata": {},
   "source": [
    "The rating of an engine does not depend on the time of inspection, hence we can drop it"
   ]
  },
  {
   "cell_type": "code",
   "execution_count": 7,
   "metadata": {},
   "outputs": [],
   "source": [
    "data = data.drop(columns = 'inspectionStartTime')"
   ]
  },
  {
   "cell_type": "code",
   "execution_count": 8,
   "metadata": {},
   "outputs": [
    {
     "data": {
      "text/html": [
       "<div>\n",
       "<style scoped>\n",
       "    .dataframe tbody tr th:only-of-type {\n",
       "        vertical-align: middle;\n",
       "    }\n",
       "\n",
       "    .dataframe tbody tr th {\n",
       "        vertical-align: top;\n",
       "    }\n",
       "\n",
       "    .dataframe thead th {\n",
       "        text-align: right;\n",
       "    }\n",
       "</style>\n",
       "<table border=\"1\" class=\"dataframe\">\n",
       "  <thead>\n",
       "    <tr style=\"text-align: right;\">\n",
       "      <th></th>\n",
       "      <th>year</th>\n",
       "      <th>month</th>\n",
       "      <th>engineTransmission_engineOil_cc_value_9</th>\n",
       "      <th>engineTransmission_engine_cc_value_10</th>\n",
       "      <th>odometer_reading</th>\n",
       "      <th>rating_engineTransmission</th>\n",
       "    </tr>\n",
       "  </thead>\n",
       "  <tbody>\n",
       "    <tr>\n",
       "      <th>count</th>\n",
       "      <td>26307.000000</td>\n",
       "      <td>26307.000000</td>\n",
       "      <td>0.0</td>\n",
       "      <td>0.0</td>\n",
       "      <td>26307.000000</td>\n",
       "      <td>26307.000000</td>\n",
       "    </tr>\n",
       "    <tr>\n",
       "      <th>mean</th>\n",
       "      <td>2010.856578</td>\n",
       "      <td>5.462006</td>\n",
       "      <td>NaN</td>\n",
       "      <td>NaN</td>\n",
       "      <td>76460.143764</td>\n",
       "      <td>3.624663</td>\n",
       "    </tr>\n",
       "    <tr>\n",
       "      <th>std</th>\n",
       "      <td>3.766234</td>\n",
       "      <td>3.583866</td>\n",
       "      <td>NaN</td>\n",
       "      <td>NaN</td>\n",
       "      <td>46762.524489</td>\n",
       "      <td>0.847645</td>\n",
       "    </tr>\n",
       "    <tr>\n",
       "      <th>min</th>\n",
       "      <td>1989.000000</td>\n",
       "      <td>1.000000</td>\n",
       "      <td>NaN</td>\n",
       "      <td>NaN</td>\n",
       "      <td>1.000000</td>\n",
       "      <td>0.500000</td>\n",
       "    </tr>\n",
       "    <tr>\n",
       "      <th>25%</th>\n",
       "      <td>2008.000000</td>\n",
       "      <td>2.000000</td>\n",
       "      <td>NaN</td>\n",
       "      <td>NaN</td>\n",
       "      <td>46396.000000</td>\n",
       "      <td>3.500000</td>\n",
       "    </tr>\n",
       "    <tr>\n",
       "      <th>50%</th>\n",
       "      <td>2011.000000</td>\n",
       "      <td>5.000000</td>\n",
       "      <td>NaN</td>\n",
       "      <td>NaN</td>\n",
       "      <td>72013.000000</td>\n",
       "      <td>4.000000</td>\n",
       "    </tr>\n",
       "    <tr>\n",
       "      <th>75%</th>\n",
       "      <td>2014.000000</td>\n",
       "      <td>9.000000</td>\n",
       "      <td>NaN</td>\n",
       "      <td>NaN</td>\n",
       "      <td>98289.500000</td>\n",
       "      <td>4.000000</td>\n",
       "    </tr>\n",
       "    <tr>\n",
       "      <th>max</th>\n",
       "      <td>2019.000000</td>\n",
       "      <td>12.000000</td>\n",
       "      <td>NaN</td>\n",
       "      <td>NaN</td>\n",
       "      <td>999999.000000</td>\n",
       "      <td>5.000000</td>\n",
       "    </tr>\n",
       "  </tbody>\n",
       "</table>\n",
       "</div>"
      ],
      "text/plain": [
       "               year         month  engineTransmission_engineOil_cc_value_9  \\\n",
       "count  26307.000000  26307.000000                                      0.0   \n",
       "mean    2010.856578      5.462006                                      NaN   \n",
       "std        3.766234      3.583866                                      NaN   \n",
       "min     1989.000000      1.000000                                      NaN   \n",
       "25%     2008.000000      2.000000                                      NaN   \n",
       "50%     2011.000000      5.000000                                      NaN   \n",
       "75%     2014.000000      9.000000                                      NaN   \n",
       "max     2019.000000     12.000000                                      NaN   \n",
       "\n",
       "       engineTransmission_engine_cc_value_10  odometer_reading  \\\n",
       "count                                    0.0      26307.000000   \n",
       "mean                                     NaN      76460.143764   \n",
       "std                                      NaN      46762.524489   \n",
       "min                                      NaN          1.000000   \n",
       "25%                                      NaN      46396.000000   \n",
       "50%                                      NaN      72013.000000   \n",
       "75%                                      NaN      98289.500000   \n",
       "max                                      NaN     999999.000000   \n",
       "\n",
       "       rating_engineTransmission  \n",
       "count               26307.000000  \n",
       "mean                    3.624663  \n",
       "std                     0.847645  \n",
       "min                     0.500000  \n",
       "25%                     3.500000  \n",
       "50%                     4.000000  \n",
       "75%                     4.000000  \n",
       "max                     5.000000  "
      ]
     },
     "execution_count": 8,
     "metadata": {},
     "output_type": "execute_result"
    }
   ],
   "source": [
    "data.describe()"
   ]
  },
  {
   "cell_type": "code",
   "execution_count": 9,
   "metadata": {},
   "outputs": [
    {
     "data": {
      "text/html": [
       "<div>\n",
       "<style scoped>\n",
       "    .dataframe tbody tr th:only-of-type {\n",
       "        vertical-align: middle;\n",
       "    }\n",
       "\n",
       "    .dataframe tbody tr th {\n",
       "        vertical-align: top;\n",
       "    }\n",
       "\n",
       "    .dataframe thead th {\n",
       "        text-align: right;\n",
       "    }\n",
       "</style>\n",
       "<table border=\"1\" class=\"dataframe\">\n",
       "  <thead>\n",
       "    <tr style=\"text-align: right;\">\n",
       "      <th></th>\n",
       "      <th>year</th>\n",
       "      <th>month</th>\n",
       "      <th>engineTransmission_engineOil_cc_value_9</th>\n",
       "      <th>engineTransmission_engine_cc_value_10</th>\n",
       "      <th>odometer_reading</th>\n",
       "      <th>rating_engineTransmission</th>\n",
       "    </tr>\n",
       "  </thead>\n",
       "  <tbody>\n",
       "    <tr>\n",
       "      <th>0</th>\n",
       "      <td>2008</td>\n",
       "      <td>8</td>\n",
       "      <td>NaN</td>\n",
       "      <td>NaN</td>\n",
       "      <td>124600</td>\n",
       "      <td>3.0</td>\n",
       "    </tr>\n",
       "    <tr>\n",
       "      <th>1</th>\n",
       "      <td>2007</td>\n",
       "      <td>5</td>\n",
       "      <td>NaN</td>\n",
       "      <td>NaN</td>\n",
       "      <td>78108</td>\n",
       "      <td>4.0</td>\n",
       "    </tr>\n",
       "    <tr>\n",
       "      <th>2</th>\n",
       "      <td>2012</td>\n",
       "      <td>5</td>\n",
       "      <td>NaN</td>\n",
       "      <td>NaN</td>\n",
       "      <td>93348</td>\n",
       "      <td>3.5</td>\n",
       "    </tr>\n",
       "    <tr>\n",
       "      <th>3</th>\n",
       "      <td>2013</td>\n",
       "      <td>1</td>\n",
       "      <td>NaN</td>\n",
       "      <td>NaN</td>\n",
       "      <td>48233</td>\n",
       "      <td>3.5</td>\n",
       "    </tr>\n",
       "    <tr>\n",
       "      <th>4</th>\n",
       "      <td>2011</td>\n",
       "      <td>7</td>\n",
       "      <td>NaN</td>\n",
       "      <td>NaN</td>\n",
       "      <td>74368</td>\n",
       "      <td>4.0</td>\n",
       "    </tr>\n",
       "    <tr>\n",
       "      <th>...</th>\n",
       "      <td>...</td>\n",
       "      <td>...</td>\n",
       "      <td>...</td>\n",
       "      <td>...</td>\n",
       "      <td>...</td>\n",
       "      <td>...</td>\n",
       "    </tr>\n",
       "    <tr>\n",
       "      <th>26302</th>\n",
       "      <td>2013</td>\n",
       "      <td>3</td>\n",
       "      <td>NaN</td>\n",
       "      <td>NaN</td>\n",
       "      <td>64532</td>\n",
       "      <td>4.0</td>\n",
       "    </tr>\n",
       "    <tr>\n",
       "      <th>26303</th>\n",
       "      <td>2007</td>\n",
       "      <td>8</td>\n",
       "      <td>NaN</td>\n",
       "      <td>NaN</td>\n",
       "      <td>88051</td>\n",
       "      <td>4.0</td>\n",
       "    </tr>\n",
       "    <tr>\n",
       "      <th>26304</th>\n",
       "      <td>2004</td>\n",
       "      <td>7</td>\n",
       "      <td>NaN</td>\n",
       "      <td>NaN</td>\n",
       "      <td>22656</td>\n",
       "      <td>3.5</td>\n",
       "    </tr>\n",
       "    <tr>\n",
       "      <th>26305</th>\n",
       "      <td>2010</td>\n",
       "      <td>12</td>\n",
       "      <td>NaN</td>\n",
       "      <td>NaN</td>\n",
       "      <td>126015</td>\n",
       "      <td>4.5</td>\n",
       "    </tr>\n",
       "    <tr>\n",
       "      <th>26306</th>\n",
       "      <td>2015</td>\n",
       "      <td>11</td>\n",
       "      <td>NaN</td>\n",
       "      <td>NaN</td>\n",
       "      <td>23983</td>\n",
       "      <td>4.5</td>\n",
       "    </tr>\n",
       "  </tbody>\n",
       "</table>\n",
       "<p>26307 rows × 6 columns</p>\n",
       "</div>"
      ],
      "text/plain": [
       "       year  month  engineTransmission_engineOil_cc_value_9  \\\n",
       "0      2008      8                                      NaN   \n",
       "1      2007      5                                      NaN   \n",
       "2      2012      5                                      NaN   \n",
       "3      2013      1                                      NaN   \n",
       "4      2011      7                                      NaN   \n",
       "...     ...    ...                                      ...   \n",
       "26302  2013      3                                      NaN   \n",
       "26303  2007      8                                      NaN   \n",
       "26304  2004      7                                      NaN   \n",
       "26305  2010     12                                      NaN   \n",
       "26306  2015     11                                      NaN   \n",
       "\n",
       "       engineTransmission_engine_cc_value_10  odometer_reading  \\\n",
       "0                                        NaN            124600   \n",
       "1                                        NaN             78108   \n",
       "2                                        NaN             93348   \n",
       "3                                        NaN             48233   \n",
       "4                                        NaN             74368   \n",
       "...                                      ...               ...   \n",
       "26302                                    NaN             64532   \n",
       "26303                                    NaN             88051   \n",
       "26304                                    NaN             22656   \n",
       "26305                                    NaN            126015   \n",
       "26306                                    NaN             23983   \n",
       "\n",
       "       rating_engineTransmission  \n",
       "0                            3.0  \n",
       "1                            4.0  \n",
       "2                            3.5  \n",
       "3                            3.5  \n",
       "4                            4.0  \n",
       "...                          ...  \n",
       "26302                        4.0  \n",
       "26303                        4.0  \n",
       "26304                        3.5  \n",
       "26305                        4.5  \n",
       "26306                        4.5  \n",
       "\n",
       "[26307 rows x 6 columns]"
      ]
     },
     "execution_count": 9,
     "metadata": {},
     "output_type": "execute_result"
    }
   ],
   "source": [
    "data.select_dtypes(exclude = 'object')"
   ]
  },
  {
   "cell_type": "code",
   "execution_count": 10,
   "metadata": {},
   "outputs": [
    {
     "name": "stdout",
     "output_type": "stream",
     "text": [
      "<class 'pandas.core.frame.DataFrame'>\n",
      "RangeIndex: 26307 entries, 0 to 26306\n",
      "Data columns (total 71 columns):\n",
      " #   Column                                                     Non-Null Count  Dtype  \n",
      "---  ------                                                     --------------  -----  \n",
      " 0   year                                                       26307 non-null  int64  \n",
      " 1   month                                                      26307 non-null  int64  \n",
      " 2   engineTransmission_battery_value                           26307 non-null  object \n",
      " 3   engineTransmission_battery_cc_value_0                      3438 non-null   object \n",
      " 4   engineTransmission_battery_cc_value_1                      430 non-null    object \n",
      " 5   engineTransmission_battery_cc_value_2                      72 non-null     object \n",
      " 6   engineTransmission_battery_cc_value_3                      16 non-null     object \n",
      " 7   engineTransmission_battery_cc_value_4                      4 non-null      object \n",
      " 8   engineTransmission_engineoilLevelDipstick_value            26307 non-null  object \n",
      " 9   engineTransmission_engineOilLevelDipstick_cc_value_0       411 non-null    object \n",
      " 10  engineTransmission_engineOil                               26307 non-null  object \n",
      " 11  engineTransmission_engineOil_cc_value_0                    18557 non-null  object \n",
      " 12  engineTransmission_engineOil_cc_value_1                    11004 non-null  object \n",
      " 13  engineTransmission_engineOil_cc_value_2                    6593 non-null   object \n",
      " 14  engineTransmission_engineOil_cc_value_3                    3742 non-null   object \n",
      " 15  engineTransmission_engineOil_cc_value_4                    1772 non-null   object \n",
      " 16  engineTransmission_engineOil_cc_value_5                    609 non-null    object \n",
      " 17  engineTransmission_engineOil_cc_value_6                    121 non-null    object \n",
      " 18  engineTransmission_engineOil_cc_value_7                    11 non-null     object \n",
      " 19  engineTransmission_engineOil_cc_value_8                    2 non-null      object \n",
      " 20  engineTransmission_engineOil_cc_value_9                    0 non-null      float64\n",
      " 21  engineTransmission_engine_value                            26307 non-null  object \n",
      " 22  engineTransmission_engine_cc_value_0                       9070 non-null   object \n",
      " 23  engineTransmission_engine_cc_value_1                       5084 non-null   object \n",
      " 24  engineTransmission_engine_cc_value_2                       2374 non-null   object \n",
      " 25  engineTransmission_engine_cc_value_3                       904 non-null    object \n",
      " 26  engineTransmission_engine_cc_value_4                       296 non-null    object \n",
      " 27  engineTransmission_engine_cc_value_5                       92 non-null     object \n",
      " 28  engineTransmission_engine_cc_value_6                       37 non-null     object \n",
      " 29  engineTransmission_engine_cc_value_7                       8 non-null      object \n",
      " 30  engineTransmission_engine_cc_value_8                       4 non-null      object \n",
      " 31  engineTransmission_engine_cc_value_9                       3 non-null      object \n",
      " 32  engineTransmission_engine_cc_value_10                      0 non-null      float64\n",
      " 33  engineTransmission_coolant_value                           26307 non-null  object \n",
      " 34  engineTransmission_coolant_cc_value_0                      10036 non-null  object \n",
      " 35  engineTransmission_coolant_cc_value_1                      2363 non-null   object \n",
      " 36  engineTransmission_coolant_cc_value_2                      235 non-null    object \n",
      " 37  engineTransmission_coolant_cc_value_3                      8 non-null      object \n",
      " 38  engineTransmission_engineMounting_value                    26307 non-null  object \n",
      " 39  engineTransmission_engineMounting_cc_value_0               9287 non-null   object \n",
      " 40  engineTransmission_engineSound_value                       26307 non-null  object \n",
      " 41  engineTransmission_engineSound_cc_value_0                  19080 non-null  object \n",
      " 42  engineTransmission_engineSound_cc_value_1                  13505 non-null  object \n",
      " 43  engineTransmission_engineSound_cc_value_2                  6072 non-null   object \n",
      " 44  engineTransmission_engineSound_cc_value_3                  2152 non-null   object \n",
      " 45  engineTransmission_engineSound_cc_value_4                  727 non-null    object \n",
      " 46  engineTransmission_engineSound_cc_value_5                  184 non-null    object \n",
      " 47  engineTransmission_exhaustSmoke_value                      26307 non-null  object \n",
      " 48  engineTransmission_exhaustSmoke_cc_value_0                 5556 non-null   object \n",
      " 49  engineTransmission_engineBlowByBackCompression_value       26307 non-null  object \n",
      " 50  engineTransmission_engineBlowByBackCompression_cc_value_0  26307 non-null  object \n",
      " 51  engineTransmission_clutch_value                            26307 non-null  object \n",
      " 52  engineTransmission_clutch_cc_value_0                       11764 non-null  object \n",
      " 53  engineTransmission_clutch_cc_value_1                       4304 non-null   object \n",
      " 54  engineTransmission_clutch_cc_value_2                       797 non-null    object \n",
      " 55  engineTransmission_clutch_cc_value_3                       159 non-null    object \n",
      " 56  engineTransmission_clutch_cc_value_4                       43 non-null     object \n",
      " 57  engineTransmission_clutch_cc_value_5                       7 non-null      object \n",
      " 58  engineTransmission_clutch_cc_value_6                       1 non-null      object \n",
      " 59  engineTransmission_gearShifting_value                      26307 non-null  object \n",
      " 60  engineTransmission_gearShifting_cc_value_0                 3464 non-null   object \n",
      " 61  engineTransmission_gearShifting_cc_value_1                 771 non-null    object \n",
      " 62  engineTransmission_gearShifting_cc_value_2                 66 non-null     object \n",
      " 63  engineTransmission_comments_value_0                        4066 non-null   object \n",
      " 64  engineTransmission_comments_value_1                        1308 non-null   object \n",
      " 65  engineTransmission_comments_value_2                        390 non-null    object \n",
      " 66  engineTransmission_comments_value_3                        59 non-null     object \n",
      " 67  engineTransmission_comments_value_4                        14 non-null     object \n",
      " 68  fuel_type                                                  26307 non-null  object \n",
      " 69  odometer_reading                                           26307 non-null  int64  \n",
      " 70  rating_engineTransmission                                  26307 non-null  float64\n",
      "dtypes: float64(3), int64(3), object(65)\n",
      "memory usage: 14.3+ MB\n"
     ]
    }
   ],
   "source": [
    "data.info()"
   ]
  },
  {
   "cell_type": "markdown",
   "metadata": {},
   "source": [
    "### Handling Null Values"
   ]
  },
  {
   "cell_type": "code",
   "execution_count": 11,
   "metadata": {},
   "outputs": [
    {
     "data": {
      "text/plain": [
       "['engineTransmission_battery_cc_value_0',\n",
       " 'engineTransmission_battery_cc_value_1',\n",
       " 'engineTransmission_battery_cc_value_2',\n",
       " 'engineTransmission_battery_cc_value_3',\n",
       " 'engineTransmission_battery_cc_value_4',\n",
       " 'engineTransmission_engineOilLevelDipstick_cc_value_0',\n",
       " 'engineTransmission_engineOil_cc_value_0',\n",
       " 'engineTransmission_engineOil_cc_value_1',\n",
       " 'engineTransmission_engineOil_cc_value_2',\n",
       " 'engineTransmission_engineOil_cc_value_3',\n",
       " 'engineTransmission_engineOil_cc_value_4',\n",
       " 'engineTransmission_engineOil_cc_value_5',\n",
       " 'engineTransmission_engineOil_cc_value_6',\n",
       " 'engineTransmission_engineOil_cc_value_7',\n",
       " 'engineTransmission_engineOil_cc_value_8',\n",
       " 'engineTransmission_engineOil_cc_value_9',\n",
       " 'engineTransmission_engine_cc_value_0',\n",
       " 'engineTransmission_engine_cc_value_1',\n",
       " 'engineTransmission_engine_cc_value_2',\n",
       " 'engineTransmission_engine_cc_value_3',\n",
       " 'engineTransmission_engine_cc_value_4',\n",
       " 'engineTransmission_engine_cc_value_5',\n",
       " 'engineTransmission_engine_cc_value_6',\n",
       " 'engineTransmission_engine_cc_value_7',\n",
       " 'engineTransmission_engine_cc_value_8',\n",
       " 'engineTransmission_engine_cc_value_9',\n",
       " 'engineTransmission_engine_cc_value_10',\n",
       " 'engineTransmission_coolant_cc_value_0',\n",
       " 'engineTransmission_coolant_cc_value_1',\n",
       " 'engineTransmission_coolant_cc_value_2',\n",
       " 'engineTransmission_coolant_cc_value_3',\n",
       " 'engineTransmission_engineMounting_cc_value_0',\n",
       " 'engineTransmission_engineSound_cc_value_0',\n",
       " 'engineTransmission_engineSound_cc_value_1',\n",
       " 'engineTransmission_engineSound_cc_value_2',\n",
       " 'engineTransmission_engineSound_cc_value_3',\n",
       " 'engineTransmission_engineSound_cc_value_4',\n",
       " 'engineTransmission_engineSound_cc_value_5',\n",
       " 'engineTransmission_exhaustSmoke_cc_value_0',\n",
       " 'engineTransmission_clutch_cc_value_0',\n",
       " 'engineTransmission_clutch_cc_value_1',\n",
       " 'engineTransmission_clutch_cc_value_2',\n",
       " 'engineTransmission_clutch_cc_value_3',\n",
       " 'engineTransmission_clutch_cc_value_4',\n",
       " 'engineTransmission_clutch_cc_value_5',\n",
       " 'engineTransmission_clutch_cc_value_6',\n",
       " 'engineTransmission_gearShifting_cc_value_0',\n",
       " 'engineTransmission_gearShifting_cc_value_1',\n",
       " 'engineTransmission_gearShifting_cc_value_2',\n",
       " 'engineTransmission_comments_value_0',\n",
       " 'engineTransmission_comments_value_1',\n",
       " 'engineTransmission_comments_value_2',\n",
       " 'engineTransmission_comments_value_3',\n",
       " 'engineTransmission_comments_value_4']"
      ]
     },
     "execution_count": 11,
     "metadata": {},
     "output_type": "execute_result"
    }
   ],
   "source": [
    "# filtering the list of columns with null values\n",
    "[col for col in data.columns if data[col].isna().any()]"
   ]
  },
  {
   "cell_type": "markdown",
   "metadata": {},
   "source": [
    "The above are the columns in the data with the null values,        \n",
    "\n",
    "All these columns(except for columns related to comments) have the description \"current condition if not yes\"  \n",
    "\n",
    "These columns are having null values because their condition is \"yes\"(in good condition) i.e.. all the null values can be filled with \"yes\"\n",
    "\n",
    "for thr columns related to comments, null values occured in them as there were no condition to report, null values in these columns can be filled with \"yes\" or \"good\""
   ]
  },
  {
   "cell_type": "code",
   "execution_count": 12,
   "metadata": {},
   "outputs": [],
   "source": [
    "data = data.fillna('Yes')"
   ]
  },
  {
   "cell_type": "code",
   "execution_count": 13,
   "metadata": {},
   "outputs": [
    {
     "data": {
      "text/plain": [
       "[]"
      ]
     },
     "execution_count": 13,
     "metadata": {},
     "output_type": "execute_result"
    }
   ],
   "source": [
    "# verifying if any columns have null values\n",
    "\n",
    "[col for col in data.columns if data[col].isna().any()]"
   ]
  },
  {
   "cell_type": "markdown",
   "metadata": {},
   "source": [
    "All the null values in the data have been imputed"
   ]
  },
  {
   "cell_type": "markdown",
   "metadata": {},
   "source": [
    "Converting the rating_engineTransmission into \"Worse\" ,'Average',\"Good\""
   ]
  },
  {
   "cell_type": "code",
   "execution_count": 14,
   "metadata": {},
   "outputs": [],
   "source": [
    "def f(r):\n",
    "    if r <= 2:\n",
    "        return 'Worse'\n",
    "    elif r<=3:\n",
    "        return 'Average'\n",
    "    else:\n",
    "        return 'Good'\n",
    "    \n",
    "data.rating_engineTransmission = data.rating_engineTransmission.map(f)"
   ]
  },
  {
   "cell_type": "code",
   "execution_count": 25,
   "metadata": {},
   "outputs": [
    {
     "data": {
      "text/plain": [
       "<matplotlib.axes._subplots.AxesSubplot at 0x7feb6339e2b0>"
      ]
     },
     "execution_count": 25,
     "metadata": {},
     "output_type": "execute_result"
    },
    {
     "data": {
      "image/png": "[encoded data removed]",
      "text/plain": [
       "<Figure size 432x288 with 1 Axes>"
      ]
     },
     "metadata": {
      "needs_background": "light"
     },
     "output_type": "display_data"
    }
   ],
   "source": [
    "sns.countplot(data['rating_engineTransmission'])"
   ]
  },
  {
   "cell_type": "code",
   "execution_count": 15,
   "metadata": {},
   "outputs": [
    {
     "data": {
      "text/plain": [
       "<matplotlib.axes._subplots.AxesSubplot at 0x7fc8fe34bac0>"
      ]
     },
     "execution_count": 15,
     "metadata": {},
     "output_type": "execute_result"
    },
    {
     "data": {
      "image/png": "[encoded data removed]",
      "text/plain": [
       "<Figure size 432x288 with 1 Axes>"
      ]
     },
     "metadata": {
      "needs_background": "light"
     },
     "output_type": "display_data"
    }
   ],
   "source": [
    "sns.distplot(data['odometer_reading'],fit = norm)"
   ]
  },
  {
   "cell_type": "markdown",
   "metadata": {},
   "source": [
    "The distribution of the only numeric feature is not very differnt from normal , it can be left as it is"
   ]
  },
  {
   "cell_type": "markdown",
   "metadata": {},
   "source": [
    "### Handling Outliers"
   ]
  },
  {
   "cell_type": "code",
   "execution_count": 16,
   "metadata": {},
   "outputs": [
    {
     "data": {
      "image/png": "[encoded data removed]",
      "text/plain": [
       "<Figure size 432x288 with 1 Axes>"
      ]
     },
     "metadata": {
      "needs_background": "light"
     },
     "output_type": "display_data"
    }
   ],
   "source": [
    "sns.countplot(data['year']);\n",
    "plt.xticks(rotation = 90);"
   ]
  },
  {
   "cell_type": "markdown",
   "metadata": {},
   "source": [
    "There is a possibility that years below 1996 are outliers"
   ]
  },
  {
   "cell_type": "code",
   "execution_count": 20,
   "metadata": {},
   "outputs": [
    {
     "name": "stdout",
     "output_type": "stream",
     "text": [
      "Shape of data after Outlier removal: (26288, 71)\n"
     ]
    }
   ],
   "source": [
    "data = data[data['year'] > 1997]\n",
    "print('Shape of data after Outlier removal:', data.shape)"
   ]
  },
  {
   "cell_type": "markdown",
   "metadata": {},
   "source": [
    "year and month columns if exists in numerical data type the algorithsm might treat them just as some number, they have to be converted into categotical"
   ]
  },
  {
   "cell_type": "code",
   "execution_count": 21,
   "metadata": {},
   "outputs": [],
   "source": [
    "data['year'] = data.year.astype(str)\n",
    "data['month'] = data.month.astype(str)"
   ]
  },
  {
   "cell_type": "code",
   "execution_count": 22,
   "metadata": {
    "scrolled": false
   },
   "outputs": [
    {
     "data": {
      "image/png": "[encoded data removed]",
      "text/plain": [
       "<Figure size 2160x2880 with 12 Axes>"
      ]
     },
     "metadata": {
      "needs_background": "light"
     },
     "output_type": "display_data"
    }
   ],
   "source": [
    "summed_cols = ['engineTransmission_battery_value','engineTransmission_engineoilLevelDipstick_value',\n",
    "               'engineTransmission_engineOil','engineTransmission_engine_value','engineTransmission_coolant_value',\n",
    "              'engineTransmission_engineMounting_value','engineTransmission_engineSound_value',\n",
    "               'engineTransmission_exhaustSmoke_value','engineTransmission_engineBlowByBackCompression_value',\n",
    "              'engineTransmission_clutch_value','engineTransmission_gearShifting_value','fuel_type']\n",
    "\n",
    "fig = plt.figure(figsize = (30,40))\n",
    "for i, feature in enumerate(summed_cols):\n",
    "    ax = fig.add_subplot(6,2,i+1)\n",
    "    sns.countplot(data['rating_engineTransmission'], hue=data[feature])\n",
    "    ax.set_title(feature+' Distribution')\n",
    "    \n",
    "fig.tight_layout()\n",
    "plt.show()\n"
   ]
  },
  {
   "cell_type": "markdown",
   "metadata": {},
   "source": [
    "The above plot shows the distribution of summarized features with respect to the target"
   ]
  },
  {
   "cell_type": "markdown",
   "metadata": {},
   "source": [
    "Spliting the data into features, target"
   ]
  },
  {
   "cell_type": "code",
   "execution_count": 23,
   "metadata": {},
   "outputs": [],
   "source": [
    "X = data.drop(columns = 'rating_engineTransmission')\n",
    "Y = data['rating_engineTransmission']"
   ]
  },
  {
   "cell_type": "markdown",
   "metadata": {},
   "source": [
    "Spliting the data into train and test"
   ]
  },
  {
   "cell_type": "code",
   "execution_count": 24,
   "metadata": {},
   "outputs": [],
   "source": [
    "trainX, testX, trainY, testY = train_test_split(X,Y)"
   ]
  },
  {
   "cell_type": "markdown",
   "metadata": {},
   "source": [
    "Separating numerical and categorical columns in the data"
   ]
  },
  {
   "cell_type": "code",
   "execution_count": 25,
   "metadata": {},
   "outputs": [],
   "source": [
    "cat_data = X.select_dtypes(include = 'object')\n",
    "int_data = X.select_dtypes(exclude = 'object')"
   ]
  },
  {
   "cell_type": "markdown",
   "metadata": {},
   "source": [
    "Building individual pipelies for numercial and categorical columns and combining them using column transformer\n",
    "\n",
    "Scaling numerical values using StandardScalar\n",
    "\n",
    "Encoding categorical columns using OneHotEncoder"
   ]
  },
  {
   "cell_type": "code",
   "execution_count": 28,
   "metadata": {},
   "outputs": [],
   "source": [
    "int_pipeline = make_pipeline(StandardScaler())\n",
    "cat_pipeline = make_pipeline(OneHotEncoder(handle_unknown= 'ignore'))\n",
    "\n",
    "\n",
    "preprocessor = make_column_transformer((cat_pipeline,cat_data.columns),\n",
    "                                      (int_pipeline,int_data.columns),\n",
    "                                      remainder = 'passthrough')"
   ]
  },
  {
   "cell_type": "markdown",
   "metadata": {},
   "source": [
    "Writing a funcition to Analysing the performance of different machine learning algorithms.\n",
    "\n",
    "The function outputs:\n",
    "    * training accuracy\n",
    "    * testing accuracy\n",
    "    * confusion matrix\n",
    "    * classification report"
   ]
  },
  {
   "cell_type": "code",
   "execution_count": 26,
   "metadata": {},
   "outputs": [],
   "source": [
    "### Function for analyisng the model performance\n",
    "\n",
    "def model_performance(model):\n",
    "    pl = make_pipeline(preprocessor, RandomOverSampler(), model)\n",
    "    pl.fit(trainX,trainY)\n",
    "    \n",
    "    print('Training Accuracy :',np.round(pl.score(trainX,trainY),2))\n",
    "    print('Testing Accuracy :',np.round(pl.score(testX,testY),2))\n",
    "    y_pred = pl.predict(testX)\n",
    "    con_mat = pd.DataFrame(confusion_matrix(y_pred = y_pred, y_true = testY))\n",
    "            \n",
    "\n",
    "    print('\\nCLASSIFICATION REPORT\\n')\n",
    "    print(classification_report(y_pred = y_pred, y_true = testY))\n",
    "\n",
    "    print('\\nCONFUSION MATRIX')\n",
    "    plt.figure(figsize= (6,4))\n",
    "    sns.heatmap(con_mat, annot = True,fmt='d',cmap=\"YlGnBu\");\n"
   ]
  },
  {
   "cell_type": "markdown",
   "metadata": {},
   "source": [
    "### Decision Tree Model"
   ]
  },
  {
   "cell_type": "code",
   "execution_count": 29,
   "metadata": {},
   "outputs": [
    {
     "name": "stdout",
     "output_type": "stream",
     "text": [
      "Training Accuracy : 1.0\n",
      "Testing Accuracy : 0.76\n",
      "\n",
      "CLASSIFICATION REPORT\n",
      "\n",
      "              precision    recall  f1-score   support\n",
      "\n",
      "     Average       0.38      0.39      0.39      1195\n",
      "        Good       0.85      0.84      0.85      4977\n",
      "       Worse       0.84      0.82      0.83       400\n",
      "\n",
      "    accuracy                           0.76      6572\n",
      "   macro avg       0.69      0.69      0.69      6572\n",
      "weighted avg       0.76      0.76      0.76      6572\n",
      "\n",
      "\n",
      "CONFUSION MATRIX\n"
     ]
    },
    {
     "data": {
      "image/png": "[encoded data removed]",
      "text/plain": [
       "<Figure size 432x288 with 2 Axes>"
      ]
     },
     "metadata": {
      "needs_background": "light"
     },
     "output_type": "display_data"
    }
   ],
   "source": [
    "model_performance(DecisionTreeClassifier())"
   ]
  },
  {
   "cell_type": "markdown",
   "metadata": {},
   "source": [
    "The Decisin Tree Model is over fitting "
   ]
  },
  {
   "cell_type": "markdown",
   "metadata": {},
   "source": [
    "## KNN"
   ]
  },
  {
   "cell_type": "code",
   "execution_count": 30,
   "metadata": {},
   "outputs": [
    {
     "name": "stdout",
     "output_type": "stream",
     "text": [
      "Training Accuracy : 0.85\n",
      "Testing Accuracy : 0.73\n",
      "\n",
      "CLASSIFICATION REPORT\n",
      "\n",
      "              precision    recall  f1-score   support\n",
      "\n",
      "     Average       0.38      0.62      0.48      1195\n",
      "        Good       0.90      0.75      0.81      4977\n",
      "       Worse       0.67      0.82      0.74       400\n",
      "\n",
      "    accuracy                           0.73      6572\n",
      "   macro avg       0.65      0.73      0.68      6572\n",
      "weighted avg       0.79      0.73      0.75      6572\n",
      "\n",
      "\n",
      "CONFUSION MATRIX\n"
     ]
    },
    {
     "data": {
      "image/png": "[encoded data removed]",
      "text/plain": [
       "<Figure size 432x288 with 2 Axes>"
      ]
     },
     "metadata": {
      "needs_background": "light"
     },
     "output_type": "display_data"
    }
   ],
   "source": [
    "model_performance(KNeighborsClassifier())"
   ]
  },
  {
   "cell_type": "markdown",
   "metadata": {},
   "source": [
    "KNN model is also over fitting"
   ]
  },
  {
   "cell_type": "markdown",
   "metadata": {},
   "source": [
    "### Logistic Regression "
   ]
  },
  {
   "cell_type": "code",
   "execution_count": 32,
   "metadata": {},
   "outputs": [
    {
     "name": "stdout",
     "output_type": "stream",
     "text": [
      "Training Accuracy : 0.75\n",
      "Testing Accuracy : 0.74\n",
      "\n",
      "CLASSIFICATION REPORT\n",
      "\n",
      "              precision    recall  f1-score   support\n",
      "\n",
      "     Average       0.40      0.71      0.51      1195\n",
      "        Good       0.93      0.73      0.82      4977\n",
      "       Worse       0.68      0.91      0.78       400\n",
      "\n",
      "    accuracy                           0.74      6572\n",
      "   macro avg       0.67      0.78      0.70      6572\n",
      "weighted avg       0.81      0.74      0.76      6572\n",
      "\n",
      "\n",
      "CONFUSION MATRIX\n"
     ]
    },
    {
     "data": {
      "image/png": "[encoded data removed]",
      "text/plain": [
       "<Figure size 432x288 with 2 Axes>"
      ]
     },
     "metadata": {
      "needs_background": "light"
     },
     "output_type": "display_data"
    }
   ],
   "source": [
    "model_performance(LogisticRegression())"
   ]
  },
  {
   "cell_type": "markdown",
   "metadata": {},
   "source": [
    "Logistic regression seems to be better than other algorithms"
   ]
  },
  {
   "cell_type": "code",
   "execution_count": 34,
   "metadata": {},
   "outputs": [
    {
     "data": {
      "text/plain": [
       "Pipeline(steps=[('columntransformer',\n",
       "                 ColumnTransformer(remainder='passthrough',\n",
       "                                   transformers=[('pipeline-1',\n",
       "                                                  Pipeline(steps=[('onehotencoder',\n",
       "                                                                   OneHotEncoder(handle_unknown='ignore'))]),\n",
       "                                                  Index(['year', 'month', 'engineTransmission_battery_value',\n",
       "       'engineTransmission_battery_cc_value_0',\n",
       "       'engineTransmission_battery_cc_value_1',\n",
       "       'engineTransmission_battery_cc_...\n",
       "       'engineTransmission_comments_value_1',\n",
       "       'engineTransmission_comments_value_2',\n",
       "       'engineTransmission_comments_value_3',\n",
       "       'engineTransmission_comments_value_4', 'fuel_type'],\n",
       "      dtype='object')),\n",
       "                                                 ('pipeline-2',\n",
       "                                                  Pipeline(steps=[('standardscaler',\n",
       "                                                                   StandardScaler())]),\n",
       "                                                  Index(['odometer_reading'], dtype='object'))])),\n",
       "                ('randomoversampler', RandomOverSampler()),\n",
       "                ('logisticregression', LogisticRegression())])"
      ]
     },
     "execution_count": 34,
     "metadata": {},
     "output_type": "execute_result"
    }
   ],
   "source": [
    "model = make_pipeline(preprocessor, RandomOverSampler(), LogisticRegression())\n",
    "model.fit(trainX,trainY)\n"
   ]
  },
  {
   "cell_type": "code",
   "execution_count": 39,
   "metadata": {},
   "outputs": [
    {
     "data": {
      "text/plain": [
       "['model.joblib']"
      ]
     },
     "execution_count": 39,
     "metadata": {},
     "output_type": "execute_result"
    }
   ],
   "source": [
    "dump(model, filename='model.joblib')"
   ]
  },
  {
   "cell_type": "markdown",
   "metadata": {},
   "source": [
    "Q1. Briefly describe your approach to this problem and the steps you took?        \n",
    "A1. * Handling Null Values\n",
    "    * Deleting Obviously unwanted columns\n",
    "    * Explratory Data Visualization\n",
    "    * Handling Outliers\n",
    "    * Changing the data types of the columns as per requirement\n",
    "    * Spliting the data into train and test\n",
    "    * building individual pipelines for preprocessing numerical and categorical columns\n",
    "    \tNumerical pipeline does Scaling\n",
    "    \tCatergorical pipelin does Encoding\n",
    "    \tCombing the above two pipelines using column transformer\n",
    "    * Writing a function for analysing model performance:\n",
    "    \tFunction inludes :\n",
    "    \t\tColumn transformer as preprocessor\n",
    "    \t\tRandomOverSampler for balancing imbalaned classes\n",
    "    \t\tA Machine Learning algorithm\n",
    "    * Trying different Machine Learning algorithms and comparing their performaces\n",
    "    \n",
    "    \n",
    "Q.2.a How well does your model work?       \n",
    "A.2.a My model performance is not bad it works good.\n",
    "\n",
    "Q.2.b How do you know for sure that’s how well it works?         \n",
    "A.2.b My model has an accuracy of 74% without overfitting.\n",
    "\n",
    "Q.2.c What stats did you use to prove its predictive performance and why?              \n",
    "A.2.c I used Accuracy, Confusion Matrix since this is a classification problem.\n",
    "\n",
    "Q.2.d What issues did you encounter?            \n",
    "A.2.d Lot of null values, Difficult to identify outliers, Having float values for in the target column for the classification problem, Limited Time. \n",
    "\n",
    "Q.2.e What insights did you obtain from this data? For example: What features are important? Why? What visualizations help you understand the data?          \n",
    "A.2.e The distplot helped me to findout that odometer_reading is near to normal distribution.         \n",
    "      A barplot to show target values are imbalanced.        \n",
    "      A bargraph on \"year\" column to deal with outliers. \n",
    "      \n",
    "      \n",
    "      \n",
    "Q.3.a What other data (if any) would have been useful?             \n",
    "A.3.a I felt that the description the data can be much more informative.\n",
    "\n",
    "Q.3.b What are some other things you would have done if you had more time?         \n",
    "A.3.b   * More Exploratory Data Analysis.         \n",
    "\t* Various Feature Selection Methods.      \n",
    "\t* Dimentinality reduction.       \n",
    "\t* Try more complex models.         \n",
    "\t* Try Deep learning for better results.     \n",
    "\n"
   ]
  }
 ],
 "metadata": {
  "kernelspec": {
   "display_name": "Python 3",
   "language": "python",
   "name": "python3"
  },
  "language_info": {
   "codemirror_mode": {
    "name": "ipython",
    "version": 3
   },
   "file_extension": ".py",
   "mimetype": "text/x-python",
   "name": "python",
   "nbconvert_exporter": "python",
   "pygments_lexer": "ipython3",
   "version": "3.8.3"
  }
 },
 "nbformat": 4,
 "nbformat_minor": 4
}
